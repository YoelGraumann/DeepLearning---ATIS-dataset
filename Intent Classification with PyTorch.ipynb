{
 "cells": [
  {
   "cell_type": "markdown",
   "id": "e34096d0",
   "metadata": {},
   "source": [
    "# Intent Classification using Pytorch\n",
    "## Creating three different deep learning models to perform simple intent classification\n",
    "### the models used are ANN, BiLSTM and BERT."
   ]
  },
  {
   "cell_type": "markdown",
   "id": "9f5b4368",
   "metadata": {},
   "source": [
    "In this notebook I will perform intent classification on the ATIS data set. Info about the dataset can be read [here](https://paperswithcode.com/dataset/atis). The dataset I used is provided in github along with this notebook.\n",
    "\n",
    "\n"
   ]
  },
  {
   "cell_type": "markdown",
   "id": "4a836787",
   "metadata": {},
   "source": [
    "\n",
    "$\\alpha$ : Build an intent classification model which is NOT based on a language model\n",
    "\n",
    "$\\beta$ : Build an intent classification model which is based on a language model\n",
    "\n",
    "In this notebook I will perform Intent classification using the following models:\n",
    "* Naive ANN ($\\alpha$)\n",
    "* Bidirectional LSTM ($\\beta$)\n",
    "* BERT (transfer learning + fine tuning) ($\\beta$)"
   ]
  },
  {
   "cell_type": "markdown",
   "id": "d07ff4ec",
   "metadata": {},
   "source": [
    "This notebook contains most of my thought process. I hope it is understandable."
   ]
  },
  {
   "cell_type": "markdown",
   "id": "918c7cb0",
   "metadata": {},
   "source": [
    "The book Deep Learning by Goodfellow, Bengio & Courville states: \"A language model defines a probability distribution\n",
    "    over sequences of tokens in a natural language\" "
   ]
  },
  {
   "cell_type": "markdown",
   "id": "7ff4bc38",
   "metadata": {},
   "source": [
    "Additionally, according to [Stanford CS224n lecture 6](https://www.youtube.com/watch?v=iWea12EAu6U)\n",
    "    A Language model is the task of predicting what word comes next. In other words, given a sequence of words $x_1, x_2,....x_t$ we want to calculate the (conditional) probability distribution of the next $x_{t+1}$ where $x_{t+1}$ can be any word in the vocabulary $V$.\n",
    "    \n",
    "From this and from the Deep Learning book, I come to the conclusion that for $\\alpha$ I must see each word of a given sentence as a FEATURE and perform regression(multi class logistic). I need to see each word as a feature where its location in the sentence is not important. The point is to compare a language model such as BERT and LSTM to a naive non-language model\n",
    "such as a fully connected, multi layer neural network."
   ]
  },
  {
   "cell_type": "markdown",
   "id": "456cf755",
   "metadata": {},
   "source": [
    "Before Starting with the models, I need to upload the data and do some text preprocessing. Because Deep learning models work with numbers."
   ]
  },
  {
   "cell_type": "markdown",
   "id": "88e6445c",
   "metadata": {},
   "source": [
    "From inspecting the data, i can see that each sentence in the \"Seq.in\" there is a single sentence/row as a label\n",
    "So for example \"i want to fly to baltimore...\"  should have the label \"atis_flight\". This really feels like I should be using some kind of \n",
    "cross entropy loss."
   ]
  },
  {
   "cell_type": "markdown",
   "id": "f42f83b3",
   "metadata": {},
   "source": [
    "#### Preprocessing:"
   ]
  },
  {
   "cell_type": "markdown",
   "id": "218275f1",
   "metadata": {},
   "source": [
    "In this step i will upload the data make it readable and understandable and then make it possible for input into \n",
    "a PyTorch Deep Learning Model.\n",
    "After this step I will be able to create the models quite easily to train and test them.\n"
   ]
  },
  {
   "cell_type": "markdown",
   "id": "4f918566",
   "metadata": {},
   "source": [
    "Uploading:"
   ]
  },
  {
   "cell_type": "code",
   "execution_count": 1,
   "id": "02a1a8cb",
   "metadata": {},
   "outputs": [],
   "source": [
    "import pandas as pd\n",
    "import numpy as np"
   ]
  },
  {
   "cell_type": "code",
   "execution_count": 2,
   "id": "88d530cd",
   "metadata": {},
   "outputs": [],
   "source": [
    "## trainseq, train_label, testseq, testlabel <-- names of the new data\n",
    "## i changed the names of the original data to make it clearer for me on my laptop."
   ]
  },
  {
   "cell_type": "code",
   "execution_count": 3,
   "id": "55b1b16e",
   "metadata": {
    "scrolled": true
   },
   "outputs": [
    {
     "data": {
      "text/plain": [
       "(                                                      0\n",
       " 0     i want to fly from baltimore to dallas round trip\n",
       " 1     round trip fares from baltimore to philadelphi...\n",
       " 2     show me the flights arriving on baltimore on j...\n",
       " 3     what are the flights which depart from san fra...\n",
       " 4     which airlines fly from boston to washington d...\n",
       " ...                                                 ...\n",
       " 4473  what's the first flight after 1 pm leaving was...\n",
       " 4474  what are the nonstop flights on america west o...\n",
       " 4475  tell me about ground transportation between or...\n",
       " 4476  i'd like a twa flight from las vegas to new yo...\n",
       " 4477  is there a delta flight from denver to san fra...\n",
       " \n",
       " [4478 rows x 1 columns],\n",
       "                         0\n",
       " 0             atis_flight\n",
       " 1            atis_airfare\n",
       " 2             atis_flight\n",
       " 3             atis_flight\n",
       " 4            atis_airline\n",
       " ...                   ...\n",
       " 4473          atis_flight\n",
       " 4474          atis_flight\n",
       " 4475  atis_ground_service\n",
       " 4476          atis_flight\n",
       " 4477          atis_flight\n",
       " \n",
       " [4478 rows x 1 columns],\n",
       "                                                      0\n",
       " 0    i would like to find a flight from charlotte t...\n",
       " 1    on april first i need a ticket from tacoma to ...\n",
       " 2    on april first i need a flight going from phoe...\n",
       " 3    i would like a flight traveling one way from p...\n",
       " 4    i would like a flight from orlando to salt lak...\n",
       " ..                                                 ...\n",
       " 888  please find all the flights from cincinnati to...\n",
       " 889  find me a flight from cincinnati to any airpor...\n",
       " 890  i'd like to fly from miami to chicago on ameri...\n",
       " 891  i would like to book a round trip flight from ...\n",
       " 892  find me a flight that flies from memphis to ta...\n",
       " \n",
       " [893 rows x 1 columns],\n",
       "                 0\n",
       " 0     atis_flight\n",
       " 1    atis_airfare\n",
       " 2     atis_flight\n",
       " 3     atis_flight\n",
       " 4     atis_flight\n",
       " ..            ...\n",
       " 888   atis_flight\n",
       " 889   atis_flight\n",
       " 890   atis_flight\n",
       " 891   atis_flight\n",
       " 892   atis_flight\n",
       " \n",
       " [893 rows x 1 columns])"
      ]
     },
     "execution_count": 3,
     "metadata": {},
     "output_type": "execute_result"
    }
   ],
   "source": [
    "trainseq=pd.read_csv('trainseq.in',header=None)\n",
    "train_label=pd.read_csv('train_label',header=None)\n",
    "testseq=pd.read_csv('testseq.in',header=None)\n",
    "test_label=pd.read_csv('testlabel',header=None)\n",
    "### just printing to make sure all is good.\n",
    "trainseq,train_label,testseq,test_label"
   ]
  },
  {
   "cell_type": "markdown",
   "id": "6116a4df",
   "metadata": {},
   "source": [
    "Some exploration of the data:"
   ]
  },
  {
   "cell_type": "code",
   "execution_count": 4,
   "id": "38486fce",
   "metadata": {},
   "outputs": [
    {
     "data": {
      "text/plain": [
       "('what are the flights which depart from san francisco fly to washington via indianapolis and arrive by 9 pm',\n",
       " 'atis_flight')"
      ]
     },
     "execution_count": 4,
     "metadata": {},
     "output_type": "execute_result"
    }
   ],
   "source": [
    "trainseq.iloc[3,0], train_label.iloc[3,0]"
   ]
  },
  {
   "cell_type": "code",
   "execution_count": 5,
   "id": "5db35ba0",
   "metadata": {},
   "outputs": [
    {
     "data": {
      "text/plain": [
       "(21,\n",
       " array(['atis_flight', 'atis_airfare', 'atis_airline',\n",
       "        'atis_ground_service', 'atis_quantity', 'atis_city',\n",
       "        'atis_flight#atis_airfare', 'atis_abbreviation', 'atis_aircraft',\n",
       "        'atis_distance', 'atis_ground_fare', 'atis_capacity',\n",
       "        'atis_flight_time', 'atis_meal',\n",
       "        'atis_aircraft#atis_flight#atis_flight_no', 'atis_flight_no',\n",
       "        'atis_restriction', 'atis_airport', 'atis_airline#atis_flight_no',\n",
       "        'atis_cheapest', 'atis_ground_service#atis_ground_fare'],\n",
       "       dtype=object))"
      ]
     },
     "execution_count": 5,
     "metadata": {},
     "output_type": "execute_result"
    }
   ],
   "source": [
    "train_label[0].nunique(), train_label[0].unique()"
   ]
  },
  {
   "cell_type": "code",
   "execution_count": 6,
   "id": "ddbbad1c",
   "metadata": {},
   "outputs": [
    {
     "data": {
      "text/plain": [
       "(20,\n",
       " array(['atis_flight', 'atis_airfare', 'atis_flight#atis_airfare',\n",
       "        'atis_ground_service', 'atis_day_name', 'atis_meal',\n",
       "        'atis_airport', 'atis_airline', 'atis_flight_time', 'atis_city',\n",
       "        'atis_ground_fare', 'atis_quantity', 'atis_abbreviation',\n",
       "        'atis_distance', 'atis_aircraft', 'atis_airfare#atis_flight',\n",
       "        'atis_capacity', 'atis_flight#atis_airline',\n",
       "        'atis_flight_no#atis_airline', 'atis_flight_no'], dtype=object))"
      ]
     },
     "execution_count": 6,
     "metadata": {},
     "output_type": "execute_result"
    }
   ],
   "source": [
    "test_label[0].nunique(), test_label[0].unique()"
   ]
  },
  {
   "cell_type": "markdown",
   "id": "91f4df84",
   "metadata": {},
   "source": [
    "My assumption is that we get a sentence, and we output a label which matches the SENTENCE. So we can see that the labelling is not ideal because there's a lot of disjoint\n",
    "labels. My guess is that the '#'  symbol in the labelling stands for \"and\". I will try to do some fixing of the labelling and then \n",
    "I can move on to the easier preprocessing for model input."
   ]
  },
  {
   "cell_type": "markdown",
   "id": "e4339e57",
   "metadata": {},
   "source": [
    " I think the best thing to do is to simplify the labelling. In other words, I will trim each label with \"#\" to be only the label\n",
    "with the first word before that symbol\n",
    "So for example,\n",
    "\n",
    "* \"atis_aircraft#atis_flight#atis_flight_no\" will become \"atis_aircraft\"\n",
    "* \"atis_ground_service#atis_ground_fare\" will become \"atis_ground_service\"\n",
    "* 'atis_flight#atis_airfare' will become \"atis_flight\"\n",
    "etc...\n",
    "\n"
   ]
  },
  {
   "cell_type": "code",
   "execution_count": 7,
   "id": "55e5d305",
   "metadata": {},
   "outputs": [],
   "source": [
    "# this function will take the label data, and trim off the parts from # to the end of sentence, leaving us\n",
    "# with just the first \"real\" label \n",
    "def label_fixer(label_data):\n",
    "    df=label_data.copy()\n",
    "    for w in range(len(df)):\n",
    "        end=df.iloc[w,0].find('#')\n",
    "        if end>0:\n",
    "            df.iloc[w,0]=df.iloc[w,0][0:end]\n",
    "    return df\n",
    "\n",
    "#### Using the above function...\n",
    "fixed_train_label=label_fixer(train_label)\n",
    "fixed_test_label=label_fixer(test_label)"
   ]
  },
  {
   "cell_type": "markdown",
   "id": "cb9c8cca",
   "metadata": {},
   "source": [
    "Now i want to find all the possible labels, so i can map them to integers and then use those integers for my model"
   ]
  },
  {
   "cell_type": "code",
   "execution_count": 8,
   "id": "18e365ed",
   "metadata": {
    "scrolled": true
   },
   "outputs": [
    {
     "data": {
      "text/plain": [
       "{'atis_aircraft': 0,\n",
       " 'atis_abbreviation': 1,\n",
       " 'atis_day_name': 2,\n",
       " 'atis_restriction': 3,\n",
       " 'atis_airfare': 4,\n",
       " 'atis_capacity': 5,\n",
       " 'atis_flight_no': 6,\n",
       " 'atis_flight': 7,\n",
       " 'atis_quantity': 8,\n",
       " 'atis_ground_fare': 9,\n",
       " 'atis_flight_time': 10,\n",
       " 'atis_airline': 11,\n",
       " 'atis_distance': 12,\n",
       " 'atis_ground_service': 13,\n",
       " 'atis_airport': 14,\n",
       " 'atis_cheapest': 15,\n",
       " 'atis_city': 16,\n",
       " 'atis_meal': 17}"
      ]
     },
     "execution_count": 8,
     "metadata": {},
     "output_type": "execute_result"
    }
   ],
   "source": [
    "# turning the labels into sets and then getting the union so we have all labels.\n",
    "train_label_set=set(fixed_train_label[0])\n",
    "test_label_set=set(fixed_test_label[0])\n",
    "all_labels=train_label_set.union(test_label_set)\n",
    "# then creating a dictionary to have the mapping, each label will have its own integer.\n",
    "#print(len(all_labels) , all_labels)\n",
    "all_labels_mapping=dict(zip(all_labels, range(0, len(all_labels)))) \n",
    "all_labels_mapping_reverse = {v: k for k, v in all_labels_mapping.items()} # this is the reverse of the all_labels_mapping\n",
    "all_labels_mapping # <--- will be important for the rest of this question!"
   ]
  },
  {
   "cell_type": "code",
   "execution_count": 9,
   "id": "6b29a52c",
   "metadata": {
    "scrolled": true
   },
   "outputs": [
    {
     "data": {
      "text/html": [
       "<div>\n",
       "<style scoped>\n",
       "    .dataframe tbody tr th:only-of-type {\n",
       "        vertical-align: middle;\n",
       "    }\n",
       "\n",
       "    .dataframe tbody tr th {\n",
       "        vertical-align: top;\n",
       "    }\n",
       "\n",
       "    .dataframe thead th {\n",
       "        text-align: right;\n",
       "    }\n",
       "</style>\n",
       "<table border=\"1\" class=\"dataframe\">\n",
       "  <thead>\n",
       "    <tr style=\"text-align: right;\">\n",
       "      <th></th>\n",
       "      <th>label</th>\n",
       "      <th>data</th>\n",
       "      <th>label_mapping</th>\n",
       "    </tr>\n",
       "  </thead>\n",
       "  <tbody>\n",
       "    <tr>\n",
       "      <th>0</th>\n",
       "      <td>atis_flight</td>\n",
       "      <td>i want to fly from baltimore to dallas round trip</td>\n",
       "      <td>7</td>\n",
       "    </tr>\n",
       "    <tr>\n",
       "      <th>1</th>\n",
       "      <td>atis_airfare</td>\n",
       "      <td>round trip fares from baltimore to philadelphi...</td>\n",
       "      <td>4</td>\n",
       "    </tr>\n",
       "    <tr>\n",
       "      <th>2</th>\n",
       "      <td>atis_flight</td>\n",
       "      <td>show me the flights arriving on baltimore on j...</td>\n",
       "      <td>7</td>\n",
       "    </tr>\n",
       "    <tr>\n",
       "      <th>3</th>\n",
       "      <td>atis_flight</td>\n",
       "      <td>what are the flights which depart from san fra...</td>\n",
       "      <td>7</td>\n",
       "    </tr>\n",
       "    <tr>\n",
       "      <th>4</th>\n",
       "      <td>atis_airline</td>\n",
       "      <td>which airlines fly from boston to washington d...</td>\n",
       "      <td>11</td>\n",
       "    </tr>\n",
       "    <tr>\n",
       "      <th>...</th>\n",
       "      <td>...</td>\n",
       "      <td>...</td>\n",
       "      <td>...</td>\n",
       "    </tr>\n",
       "    <tr>\n",
       "      <th>4473</th>\n",
       "      <td>atis_flight</td>\n",
       "      <td>what's the first flight after 1 pm leaving was...</td>\n",
       "      <td>7</td>\n",
       "    </tr>\n",
       "    <tr>\n",
       "      <th>4474</th>\n",
       "      <td>atis_flight</td>\n",
       "      <td>what are the nonstop flights on america west o...</td>\n",
       "      <td>7</td>\n",
       "    </tr>\n",
       "    <tr>\n",
       "      <th>4475</th>\n",
       "      <td>atis_ground_service</td>\n",
       "      <td>tell me about ground transportation between or...</td>\n",
       "      <td>13</td>\n",
       "    </tr>\n",
       "    <tr>\n",
       "      <th>4476</th>\n",
       "      <td>atis_flight</td>\n",
       "      <td>i'd like a twa flight from las vegas to new yo...</td>\n",
       "      <td>7</td>\n",
       "    </tr>\n",
       "    <tr>\n",
       "      <th>4477</th>\n",
       "      <td>atis_flight</td>\n",
       "      <td>is there a delta flight from denver to san fra...</td>\n",
       "      <td>7</td>\n",
       "    </tr>\n",
       "  </tbody>\n",
       "</table>\n",
       "<p>4478 rows × 3 columns</p>\n",
       "</div>"
      ],
      "text/plain": [
       "                    label                                               data  \\\n",
       "0             atis_flight  i want to fly from baltimore to dallas round trip   \n",
       "1            atis_airfare  round trip fares from baltimore to philadelphi...   \n",
       "2             atis_flight  show me the flights arriving on baltimore on j...   \n",
       "3             atis_flight  what are the flights which depart from san fra...   \n",
       "4            atis_airline  which airlines fly from boston to washington d...   \n",
       "...                   ...                                                ...   \n",
       "4473          atis_flight  what's the first flight after 1 pm leaving was...   \n",
       "4474          atis_flight  what are the nonstop flights on america west o...   \n",
       "4475  atis_ground_service  tell me about ground transportation between or...   \n",
       "4476          atis_flight  i'd like a twa flight from las vegas to new yo...   \n",
       "4477          atis_flight  is there a delta flight from denver to san fra...   \n",
       "\n",
       "      label_mapping  \n",
       "0                 7  \n",
       "1                 4  \n",
       "2                 7  \n",
       "3                 7  \n",
       "4                11  \n",
       "...             ...  \n",
       "4473              7  \n",
       "4474              7  \n",
       "4475             13  \n",
       "4476              7  \n",
       "4477              7  \n",
       "\n",
       "[4478 rows x 3 columns]"
      ]
     },
     "execution_count": 9,
     "metadata": {},
     "output_type": "execute_result"
    }
   ],
   "source": [
    "# Creating the final, main data frames for the rest of this notebook. Will be in all caps. \n",
    "# fixing up the names of columns to make everything more readable and undestandable...\n",
    "trainseq=trainseq.rename(columns={0: 'data'})\n",
    "testseq=testseq.rename(columns={0:'data'})\n",
    "fixed_train_label=fixed_train_label.rename(columns={0:'label'})\n",
    "fixed_test_label=fixed_test_label.rename(columns={0:'label'})\n",
    "# creating the final dataframes:\n",
    "TRAIN_DATA_FRAME=pd.concat([fixed_train_label,trainseq],axis=1)\n",
    "TRAIN_DATA_FRAME['label_mapping']=TRAIN_DATA_FRAME['label'].map(all_labels_mapping)\n",
    "\n",
    "TEST_DATA_FRAME=pd.concat([fixed_test_label,testseq],axis=1)\n",
    "TEST_DATA_FRAME['label_mapping']=TEST_DATA_FRAME['label'].map(all_labels_mapping)\n",
    "### \"main data frame\"\n",
    "TRAIN_DATA_FRAME"
   ]
  },
  {
   "cell_type": "code",
   "execution_count": 10,
   "id": "bb1f066e",
   "metadata": {},
   "outputs": [
    {
     "data": {
      "text/html": [
       "<div>\n",
       "<style scoped>\n",
       "    .dataframe tbody tr th:only-of-type {\n",
       "        vertical-align: middle;\n",
       "    }\n",
       "\n",
       "    .dataframe tbody tr th {\n",
       "        vertical-align: top;\n",
       "    }\n",
       "\n",
       "    .dataframe thead th {\n",
       "        text-align: right;\n",
       "    }\n",
       "</style>\n",
       "<table border=\"1\" class=\"dataframe\">\n",
       "  <thead>\n",
       "    <tr style=\"text-align: right;\">\n",
       "      <th></th>\n",
       "      <th>label</th>\n",
       "      <th>data</th>\n",
       "      <th>label_mapping</th>\n",
       "    </tr>\n",
       "  </thead>\n",
       "  <tbody>\n",
       "    <tr>\n",
       "      <th>0</th>\n",
       "      <td>atis_flight</td>\n",
       "      <td>i would like to find a flight from charlotte t...</td>\n",
       "      <td>7</td>\n",
       "    </tr>\n",
       "    <tr>\n",
       "      <th>1</th>\n",
       "      <td>atis_airfare</td>\n",
       "      <td>on april first i need a ticket from tacoma to ...</td>\n",
       "      <td>4</td>\n",
       "    </tr>\n",
       "    <tr>\n",
       "      <th>2</th>\n",
       "      <td>atis_flight</td>\n",
       "      <td>on april first i need a flight going from phoe...</td>\n",
       "      <td>7</td>\n",
       "    </tr>\n",
       "    <tr>\n",
       "      <th>3</th>\n",
       "      <td>atis_flight</td>\n",
       "      <td>i would like a flight traveling one way from p...</td>\n",
       "      <td>7</td>\n",
       "    </tr>\n",
       "    <tr>\n",
       "      <th>4</th>\n",
       "      <td>atis_flight</td>\n",
       "      <td>i would like a flight from orlando to salt lak...</td>\n",
       "      <td>7</td>\n",
       "    </tr>\n",
       "    <tr>\n",
       "      <th>...</th>\n",
       "      <td>...</td>\n",
       "      <td>...</td>\n",
       "      <td>...</td>\n",
       "    </tr>\n",
       "    <tr>\n",
       "      <th>888</th>\n",
       "      <td>atis_flight</td>\n",
       "      <td>please find all the flights from cincinnati to...</td>\n",
       "      <td>7</td>\n",
       "    </tr>\n",
       "    <tr>\n",
       "      <th>889</th>\n",
       "      <td>atis_flight</td>\n",
       "      <td>find me a flight from cincinnati to any airpor...</td>\n",
       "      <td>7</td>\n",
       "    </tr>\n",
       "    <tr>\n",
       "      <th>890</th>\n",
       "      <td>atis_flight</td>\n",
       "      <td>i'd like to fly from miami to chicago on ameri...</td>\n",
       "      <td>7</td>\n",
       "    </tr>\n",
       "    <tr>\n",
       "      <th>891</th>\n",
       "      <td>atis_flight</td>\n",
       "      <td>i would like to book a round trip flight from ...</td>\n",
       "      <td>7</td>\n",
       "    </tr>\n",
       "    <tr>\n",
       "      <th>892</th>\n",
       "      <td>atis_flight</td>\n",
       "      <td>find me a flight that flies from memphis to ta...</td>\n",
       "      <td>7</td>\n",
       "    </tr>\n",
       "  </tbody>\n",
       "</table>\n",
       "<p>893 rows × 3 columns</p>\n",
       "</div>"
      ],
      "text/plain": [
       "            label                                               data  \\\n",
       "0     atis_flight  i would like to find a flight from charlotte t...   \n",
       "1    atis_airfare  on april first i need a ticket from tacoma to ...   \n",
       "2     atis_flight  on april first i need a flight going from phoe...   \n",
       "3     atis_flight  i would like a flight traveling one way from p...   \n",
       "4     atis_flight  i would like a flight from orlando to salt lak...   \n",
       "..            ...                                                ...   \n",
       "888   atis_flight  please find all the flights from cincinnati to...   \n",
       "889   atis_flight  find me a flight from cincinnati to any airpor...   \n",
       "890   atis_flight  i'd like to fly from miami to chicago on ameri...   \n",
       "891   atis_flight  i would like to book a round trip flight from ...   \n",
       "892   atis_flight  find me a flight that flies from memphis to ta...   \n",
       "\n",
       "     label_mapping  \n",
       "0                7  \n",
       "1                4  \n",
       "2                7  \n",
       "3                7  \n",
       "4                7  \n",
       "..             ...  \n",
       "888              7  \n",
       "889              7  \n",
       "890              7  \n",
       "891              7  \n",
       "892              7  \n",
       "\n",
       "[893 rows x 3 columns]"
      ]
     },
     "execution_count": 10,
     "metadata": {},
     "output_type": "execute_result"
    }
   ],
   "source": [
    "## \"main data frame\"\n",
    "TEST_DATA_FRAME"
   ]
  },
  {
   "cell_type": "markdown",
   "id": "9c631f05",
   "metadata": {},
   "source": [
    "What I would like to do now is take the sentences from the 'data' column of each of the main data frames(in caps)\n",
    "and turn them into numbers, tokenize them. After that I could finally feed the data into the neural networks."
   ]
  },
  {
   "cell_type": "markdown",
   "id": "a00a38fc",
   "metadata": {},
   "source": [
    "since i have too many problems with tokenization (pytorch tutorials I found seemed to be outdated). I will write my own code\n",
    "for tokenization.\n",
    "What I will do is tokenize each word based on the training data.\n",
    "Then I will create a data frame which will hold a number for each word in the training data.\n",
    "I know this is not going to be efficient, but this is what I have :("
   ]
  },
  {
   "cell_type": "markdown",
   "id": "4c9fd935",
   "metadata": {},
   "source": [
    "What I would like to do now is tokenization then map each token to a unique integer and then add padding. After this, each sentence should be represented by integers. Note that I will do PREPADDING, That way I wont have to do padding again for the lstm model."
   ]
  },
  {
   "cell_type": "markdown",
   "id": "18b2cde7",
   "metadata": {},
   "source": [
    "The following function will take in the main data frame(in caps) and return the maximum length of a sentence and a \n",
    "vocabulary word set. with the output of this function I will create my vocabulary."
   ]
  },
  {
   "cell_type": "code",
   "execution_count": 11,
   "id": "2f8179f7",
   "metadata": {},
   "outputs": [],
   "source": [
    "def create_word_set(df):\n",
    "    word_data=list(df['data'])\n",
    "    word_set=set()\n",
    "    maxlen=0\n",
    "    for i in range(len(word_data)):\n",
    "        current_sentence=word_data[i].split(\" \")\n",
    "        if len(current_sentence)>maxlen:\n",
    "            maxlen=len(current_sentence)\n",
    "            #print(current_sentence)\n",
    "        word_set=word_set.union(set(current_sentence))\n",
    "        '''\n",
    "        #print(maxlen) ## longest sentence in train is 46 and longest in test is 30, therefore I will pad \n",
    "        maxlen will be important for the rest of this notebook.\n",
    "        ## everything to be 46 length.\n",
    "        \n",
    "        '''\n",
    "    #print(maxlen)\n",
    "    return word_set,maxlen"
   ]
  },
  {
   "cell_type": "markdown",
   "id": "1ae7063a",
   "metadata": {},
   "source": [
    " vocabulary_set <---- this will be the vocabulary set.\n",
    " maxlen <- this is the maximum length of a sentence, I will need to pad every sentence to be this length \n",
    " I know pytorch has a smart algorithm for padding per batch and each sample per batch is chosen based off of its length\n",
    "Sadly I couldn't get it to work. maybe later on. but for now this is what I have :l"
   ]
  },
  {
   "cell_type": "code",
   "execution_count": 12,
   "id": "b36c9d53",
   "metadata": {},
   "outputs": [
    {
     "data": {
      "text/plain": [
       "{'tuesday': 2,\n",
       " '279': 3,\n",
       " 'expensive': 4,\n",
       " 'same': 5,\n",
       " 'far': 6,\n",
       " 'regarding': 7,\n",
       " 'seventh': 8,\n",
       " 'california': 9,\n",
       " 'sa': 10,\n",
       " 'orlando': 11,\n",
       " '730': 12,\n",
       " 'evening': 13,\n",
       " 'should': 14,\n",
       " 'thrift': 15,\n",
       " 'display': 16,\n",
       " 'economic': 17,\n",
       " 'd': 18,\n",
       " 'airline': 19,\n",
       " '747': 20,\n",
       " 'companies': 21,\n",
       " 'cheap': 22,\n",
       " 'trip': 23,\n",
       " 'heading': 24,\n",
       " 'eleven': 25,\n",
       " 'before': 26,\n",
       " 'noon': 27,\n",
       " 'city': 28,\n",
       " 'capacity': 29,\n",
       " 'late': 30,\n",
       " '1245': 31,\n",
       " 'southwest': 32,\n",
       " 'cincinnati': 33,\n",
       " 'general': 34,\n",
       " '505': 35,\n",
       " 'ls': 36,\n",
       " 'taking': 37,\n",
       " '230': 38,\n",
       " \"one's\": 39,\n",
       " 'spend': 40,\n",
       " 'usa': 41,\n",
       " '2134': 42,\n",
       " 'offered': 43,\n",
       " 'flying': 44,\n",
       " 'dc10': 45,\n",
       " '343': 46,\n",
       " '1993': 47,\n",
       " 'repeating': 48,\n",
       " 'travels': 49,\n",
       " 'look': 50,\n",
       " 'take': 51,\n",
       " '1209': 52,\n",
       " 'order': 53,\n",
       " 'then': 54,\n",
       " 'during': 55,\n",
       " 'dc': 56,\n",
       " 'ap80': 57,\n",
       " 'wish': 58,\n",
       " 'without': 59,\n",
       " '1133': 60,\n",
       " 'kind': 61,\n",
       " 'here': 62,\n",
       " 'april': 63,\n",
       " '459': 64,\n",
       " 'serving': 65,\n",
       " 'across': 66,\n",
       " 'hopefully': 67,\n",
       " 'continent': 68,\n",
       " 'rentals': 69,\n",
       " 'lives': 70,\n",
       " 'numbers': 71,\n",
       " 'express': 72,\n",
       " 'dinner': 73,\n",
       " 'schedules': 74,\n",
       " 'hello': 75,\n",
       " 'staying': 76,\n",
       " 'charlotte': 77,\n",
       " '539': 78,\n",
       " 'love': 79,\n",
       " 'arizona': 80,\n",
       " '0900': 81,\n",
       " '80': 82,\n",
       " 'pittsburgh': 83,\n",
       " '825': 84,\n",
       " 'jet': 85,\n",
       " 'america': 86,\n",
       " '1115': 87,\n",
       " 'fourteenth': 88,\n",
       " 'carried': 89,\n",
       " 'serviced': 90,\n",
       " 'describe': 91,\n",
       " 'currently': 92,\n",
       " 'can': 93,\n",
       " '823': 94,\n",
       " 'wanted': 95,\n",
       " 'mondays': 96,\n",
       " 'each': 97,\n",
       " 'delta': 98,\n",
       " 'requesting': 99,\n",
       " '1500': 100,\n",
       " 'it': 101,\n",
       " 'through': 102,\n",
       " '1055': 103,\n",
       " 'designate': 104,\n",
       " '1505': 105,\n",
       " 'minnesota': 106,\n",
       " 'i': 107,\n",
       " 'noontime': 108,\n",
       " 'hi': 109,\n",
       " 'beginning': 110,\n",
       " 'fly': 111,\n",
       " '1100': 112,\n",
       " '55': 113,\n",
       " 'boeing': 114,\n",
       " 'oh': 115,\n",
       " 'stand': 116,\n",
       " 'august': 117,\n",
       " 'continuing': 118,\n",
       " 'weekday': 119,\n",
       " 'february': 120,\n",
       " '82': 121,\n",
       " 'ord': 122,\n",
       " 'makes': 123,\n",
       " 'y': 124,\n",
       " 'greatest': 125,\n",
       " 'washington': 126,\n",
       " 'where': 127,\n",
       " '1158': 128,\n",
       " 'anywhere': 129,\n",
       " '755': 130,\n",
       " '3': 131,\n",
       " 'trans': 132,\n",
       " 'mitchell': 133,\n",
       " 'need': 134,\n",
       " 'arrivals': 135,\n",
       " 'memphis': 136,\n",
       " 'put': 137,\n",
       " 'leaving': 138,\n",
       " 'types': 139,\n",
       " 'up': 140,\n",
       " 'are': 141,\n",
       " 'morning': 142,\n",
       " 'prefer': 143,\n",
       " 'fort': 144,\n",
       " 'at': 145,\n",
       " 'possible': 146,\n",
       " 'iah': 147,\n",
       " '4400': 148,\n",
       " 'name': 149,\n",
       " 'less': 150,\n",
       " 'connect': 151,\n",
       " 'pennsylvania': 152,\n",
       " 'thirteenth': 153,\n",
       " 'may': 154,\n",
       " 'listing': 155,\n",
       " 'stop': 156,\n",
       " 'once': 157,\n",
       " 'airlines': 158,\n",
       " 'goes': 159,\n",
       " '296': 160,\n",
       " '110': 161,\n",
       " 'field': 162,\n",
       " 'monday': 163,\n",
       " 'rent': 164,\n",
       " \"york's\": 165,\n",
       " '1220': 166,\n",
       " 'visit': 167,\n",
       " 'san': 168,\n",
       " 'wants': 169,\n",
       " 'thereafter': 170,\n",
       " 'date': 171,\n",
       " 'chicago': 172,\n",
       " 'francisco': 173,\n",
       " 'costs': 174,\n",
       " 'still': 175,\n",
       " \"we're\": 176,\n",
       " 'whether': 177,\n",
       " 'all': 178,\n",
       " 'know': 179,\n",
       " 'have': 180,\n",
       " 'area': 181,\n",
       " 'ten': 182,\n",
       " 'supper': 183,\n",
       " 'stopovers': 184,\n",
       " 'angeles': 185,\n",
       " 'northwest': 186,\n",
       " 'such': 187,\n",
       " 'that': 188,\n",
       " 'well': 189,\n",
       " 'thank': 190,\n",
       " 'place': 191,\n",
       " 'and': 192,\n",
       " \"it's\": 193,\n",
       " \"o'clock\": 194,\n",
       " 'kansas': 195,\n",
       " 'either': 196,\n",
       " '466': 197,\n",
       " 'services': 198,\n",
       " 'show': 199,\n",
       " 'airport': 200,\n",
       " 'nonstop': 201,\n",
       " 'tell': 202,\n",
       " 'represented': 203,\n",
       " 'cp': 204,\n",
       " 'downtown': 205,\n",
       " 'jose': 206,\n",
       " '225': 207,\n",
       " 'class': 208,\n",
       " 'twentieth': 209,\n",
       " 'these': 210,\n",
       " 'preferably': 211,\n",
       " 'connects': 212,\n",
       " 'sixteenth': 213,\n",
       " 'available': 214,\n",
       " 'ap': 215,\n",
       " 'ea': 216,\n",
       " 'train': 217,\n",
       " 'highest': 218,\n",
       " 'ninth': 219,\n",
       " 'working': 220,\n",
       " 'located': 221,\n",
       " 'town': 222,\n",
       " '98': 223,\n",
       " 'flight': 224,\n",
       " 'denver': 225,\n",
       " 'way': 226,\n",
       " 'seats': 227,\n",
       " 'county': 228,\n",
       " \"i'm\": 229,\n",
       " 'abbreviations': 230,\n",
       " 'later': 231,\n",
       " 'turboprop': 232,\n",
       " 'just': 233,\n",
       " 'detroit': 234,\n",
       " 'directly': 235,\n",
       " 'say': 236,\n",
       " 'airfare': 237,\n",
       " 'arrival': 238,\n",
       " '405': 239,\n",
       " 'non': 240,\n",
       " 'texas': 241,\n",
       " 'options': 242,\n",
       " 'yes': 243,\n",
       " 'oakland': 244,\n",
       " 'near': 245,\n",
       " 'night': 246,\n",
       " 'offers': 247,\n",
       " 'listed': 248,\n",
       " 'october': 249,\n",
       " 'lowest': 250,\n",
       " 'takeoff': 251,\n",
       " 'number': 252,\n",
       " '934': 253,\n",
       " '2153': 254,\n",
       " '3357': 255,\n",
       " 'plane': 256,\n",
       " 'florida': 257,\n",
       " '4': 258,\n",
       " '21': 259,\n",
       " 'sunday': 260,\n",
       " 'landings': 261,\n",
       " 'limousine': 262,\n",
       " '1291': 263,\n",
       " 'snack': 264,\n",
       " 'departs': 265,\n",
       " 'thirtieth': 266,\n",
       " 'takeoffs': 267,\n",
       " 'making': 268,\n",
       " 'january': 269,\n",
       " 'restrictions': 270,\n",
       " 'single': 271,\n",
       " 'right': 272,\n",
       " 'closest': 273,\n",
       " \"atlanta's\": 274,\n",
       " 'stopover': 275,\n",
       " '2': 276,\n",
       " 'your': 277,\n",
       " '1030': 278,\n",
       " 'coming': 279,\n",
       " 'being': 280,\n",
       " 'what': 281,\n",
       " '1145': 282,\n",
       " '1288': 283,\n",
       " 'united': 284,\n",
       " 'cities': 285,\n",
       " 'indianapolis': 286,\n",
       " 'rental': 287,\n",
       " 'okay': 288,\n",
       " '352': 289,\n",
       " 'newark': 290,\n",
       " 'one': 291,\n",
       " 'book': 292,\n",
       " 'includes': 293,\n",
       " 'f28': 294,\n",
       " 'concerning': 295,\n",
       " 'toward': 296,\n",
       " 'trips': 297,\n",
       " 'dl': 298,\n",
       " '137338': 299,\n",
       " 'use': 300,\n",
       " 'hou': 301,\n",
       " 'could': 302,\n",
       " 'midway': 303,\n",
       " 'reservations': 304,\n",
       " 'stapleton': 305,\n",
       " 'first': 306,\n",
       " 'stands': 307,\n",
       " 'buy': 308,\n",
       " 'soon': 309,\n",
       " 'great': 310,\n",
       " 'ewr': 311,\n",
       " 'when': 312,\n",
       " 'second': 313,\n",
       " 'midwest': 314,\n",
       " 'cars': 315,\n",
       " 'd10': 316,\n",
       " 'departing': 317,\n",
       " \"i've\": 318,\n",
       " '928': 319,\n",
       " 'thing': 320,\n",
       " '1205': 321,\n",
       " 'live': 322,\n",
       " 'american': 323,\n",
       " 'calling': 324,\n",
       " 'seattle': 325,\n",
       " 'meals': 326,\n",
       " 'c': 327,\n",
       " 'saturday': 328,\n",
       " 'land': 329,\n",
       " 'flights': 330,\n",
       " 'instead': 331,\n",
       " 'philadelphia': 332,\n",
       " 'by': 333,\n",
       " 'stopping': 334,\n",
       " 'total': 335,\n",
       " 'ticket': 336,\n",
       " '746': 337,\n",
       " 'airports': 338,\n",
       " 'much': 339,\n",
       " 'rates': 340,\n",
       " 'colorado': 341,\n",
       " 'long': 342,\n",
       " '767': 343,\n",
       " 'difference': 344,\n",
       " 'equipment': 345,\n",
       " 'this': 346,\n",
       " 'week': 347,\n",
       " 'scenario': 348,\n",
       " 'ac': 349,\n",
       " 'including': 350,\n",
       " 'now': 351,\n",
       " 'got': 352,\n",
       " 'list': 353,\n",
       " 'lufthansa': 354,\n",
       " 'symbols': 355,\n",
       " 'limo': 356,\n",
       " 'sorry': 357,\n",
       " 'so': 358,\n",
       " 'please': 359,\n",
       " 'destination': 360,\n",
       " '723': 361,\n",
       " 'vegas': 362,\n",
       " 'tomorrow': 363,\n",
       " '400': 364,\n",
       " 'midnight': 365,\n",
       " 'seating': 366,\n",
       " 'again': 367,\n",
       " 'explain': 368,\n",
       " 'inexpensive': 369,\n",
       " 'my': 370,\n",
       " 'an': 371,\n",
       " '1039': 372,\n",
       " 'looking': 373,\n",
       " '270': 374,\n",
       " 'itinerary': 375,\n",
       " 'leave': 376,\n",
       " 'meaning': 377,\n",
       " 'b': 378,\n",
       " \"let's\": 379,\n",
       " 'begins': 380,\n",
       " 'who': 381,\n",
       " 'also': 382,\n",
       " 'within': 383,\n",
       " 'used': 384,\n",
       " 'columbus': 385,\n",
       " '71': 386,\n",
       " 'serve': 387,\n",
       " 'nevada': 388,\n",
       " 'via': 389,\n",
       " 'times': 390,\n",
       " \"friday's\": 391,\n",
       " 'let': 392,\n",
       " 'ap57': 393,\n",
       " 'served': 394,\n",
       " 'rate': 395,\n",
       " 'ontario': 396,\n",
       " 'houston': 397,\n",
       " 'mco': 398,\n",
       " 'september': 399,\n",
       " 'make': 400,\n",
       " 'la': 401,\n",
       " 'fifth': 402,\n",
       " '210': 403,\n",
       " '734': 404,\n",
       " 'give': 405,\n",
       " 'come': 406,\n",
       " 'most': 407,\n",
       " 'many': 408,\n",
       " 'departures': 409,\n",
       " 'utah': 410,\n",
       " '1991': 411,\n",
       " 'vicinity': 412,\n",
       " 'tuesdays': 413,\n",
       " 'advertises': 414,\n",
       " 'm80': 415,\n",
       " 'question': 416,\n",
       " 'logan': 417,\n",
       " 'code': 418,\n",
       " 'airplanes': 419,\n",
       " 'airfares': 420,\n",
       " '130': 421,\n",
       " 'help': 422,\n",
       " 'planes': 423,\n",
       " '1110': 424,\n",
       " '852': 425,\n",
       " 'boston': 426,\n",
       " 'price': 427,\n",
       " 'world': 428,\n",
       " '8': 429,\n",
       " 'information': 430,\n",
       " '269': 431,\n",
       " 'straight': 432,\n",
       " 'earliest': 433,\n",
       " 'distance': 434,\n",
       " 'enroute': 435,\n",
       " 'me': 436,\n",
       " 'repeat': 437,\n",
       " 'time': 438,\n",
       " 'largest': 439,\n",
       " 'charges': 440,\n",
       " 'do': 441,\n",
       " 'fifteenth': 442,\n",
       " 'somebody': 443,\n",
       " '555': 444,\n",
       " 'scheduled': 445,\n",
       " \"don't\": 446,\n",
       " '615': 447,\n",
       " 'quebec': 448,\n",
       " 'reverse': 449,\n",
       " 'wednesdays': 450,\n",
       " 'laying': 451,\n",
       " 's': 452,\n",
       " 'shortest': 453,\n",
       " 'cost': 454,\n",
       " 'jfk': 455,\n",
       " 'minimum': 456,\n",
       " 'how': 457,\n",
       " 'schedule': 458,\n",
       " 'their': 459,\n",
       " 'nonstops': 460,\n",
       " 'breakfast': 461,\n",
       " 'flies': 462,\n",
       " '430': 463,\n",
       " 'michigan': 464,\n",
       " 'fares': 465,\n",
       " 'philly': 466,\n",
       " 'tampa': 467,\n",
       " 'booking': 468,\n",
       " 'arriving': 469,\n",
       " 'tickets': 470,\n",
       " 'will': 471,\n",
       " 'qualify': 472,\n",
       " 'depart': 473,\n",
       " '324': 474,\n",
       " '650': 475,\n",
       " '315': 476,\n",
       " 'missouri': 477,\n",
       " 'hp': 478,\n",
       " 'maximum': 479,\n",
       " '1020': 480,\n",
       " 'york': 481,\n",
       " '1130': 482,\n",
       " '1230': 483,\n",
       " 'nw': 484,\n",
       " 'thursday': 485,\n",
       " 'j31': 486,\n",
       " 'am': 487,\n",
       " 'minneapolis': 488,\n",
       " 'home': 489,\n",
       " 'belong': 490,\n",
       " \"i'd\": 491,\n",
       " 'las': 492,\n",
       " 'reaches': 493,\n",
       " 'eastern': 494,\n",
       " 'fit': 495,\n",
       " '305': 496,\n",
       " 'other': 497,\n",
       " 'them': 498,\n",
       " 'to': 499,\n",
       " 'travel': 500,\n",
       " 'database': 501,\n",
       " 'jersey': 502,\n",
       " 'least': 503,\n",
       " 'paul': 504,\n",
       " 'transportation': 505,\n",
       " \"what're\": 506,\n",
       " '150': 507,\n",
       " '630': 508,\n",
       " 'there': 509,\n",
       " 'hartfield': 510,\n",
       " 'atl': 511,\n",
       " 'start': 512,\n",
       " 'afternoons': 513,\n",
       " 'close': 514,\n",
       " 'no': 515,\n",
       " 'transport': 516,\n",
       " 'if': 517,\n",
       " 'fine': 518,\n",
       " '1600': 519,\n",
       " 'weekdays': 520,\n",
       " 'define': 521,\n",
       " '718': 522,\n",
       " 'lands': 523,\n",
       " 'sixteen': 524,\n",
       " '737': 525,\n",
       " 'phoenix': 526,\n",
       " 'on': 527,\n",
       " 'another': 528,\n",
       " 'mia': 529,\n",
       " 'car': 530,\n",
       " 'leaves': 531,\n",
       " 'continental': 532,\n",
       " 'earlier': 533,\n",
       " 'proper': 534,\n",
       " 'very': 535,\n",
       " 'atlanta': 536,\n",
       " 'friday': 537,\n",
       " '819': 538,\n",
       " 'lake': 539,\n",
       " '329': 540,\n",
       " '345': 541,\n",
       " 'twelfth': 542,\n",
       " 'sd': 543,\n",
       " 'miami': 544,\n",
       " 'yn': 545,\n",
       " 'offer': 546,\n",
       " 'returning': 547,\n",
       " '810': 548,\n",
       " 'qx': 549,\n",
       " 'q': 550,\n",
       " '402': 551,\n",
       " 'over': 552,\n",
       " 'which': 553,\n",
       " '415': 554,\n",
       " 'does': 555,\n",
       " 'co': 556,\n",
       " 'oak': 557,\n",
       " 'find': 558,\n",
       " 'dollars': 559,\n",
       " 'kinds': 560,\n",
       " 'seven': 561,\n",
       " 'you': 562,\n",
       " 'aa': 563,\n",
       " 'plan': 564,\n",
       " 'month': 565,\n",
       " 'friends': 566,\n",
       " 'guardia': 567,\n",
       " 'three': 568,\n",
       " 'carolina': 569,\n",
       " '297': 570,\n",
       " 'two': 571,\n",
       " 'as': 572,\n",
       " 'eighth': 573,\n",
       " \"sunday's\": 574,\n",
       " 'eight': 575,\n",
       " 'arrives': 576,\n",
       " 'eye': 577,\n",
       " 'classes': 578,\n",
       " \"delta's\": 579,\n",
       " 'lastest': 580,\n",
       " 'yyz': 581,\n",
       " 'uses': 582,\n",
       " '100': 583,\n",
       " 'november': 584,\n",
       " 'under': 585,\n",
       " 'listings': 586,\n",
       " 'landing': 587,\n",
       " 'priced': 588,\n",
       " 'is': 589,\n",
       " 'of': 590,\n",
       " 'early': 591,\n",
       " 'north': 592,\n",
       " 'traveling': 593,\n",
       " '813': 594,\n",
       " '1045': 595,\n",
       " \"i'll\": 596,\n",
       " 'four': 597,\n",
       " 'burbank': 598,\n",
       " 'sfo': 599,\n",
       " '445': 600,\n",
       " '771': 601,\n",
       " 'afternoon': 602,\n",
       " 'economy': 603,\n",
       " 'type': 604,\n",
       " 'taxi': 605,\n",
       " 'stops': 606,\n",
       " '73s': 607,\n",
       " 'connection': 608,\n",
       " 'out': 609,\n",
       " 'indiana': 610,\n",
       " 'abbreviation': 611,\n",
       " 'any': 612,\n",
       " '1026': 613,\n",
       " 'following': 614,\n",
       " '6': 615,\n",
       " 'd9s': 616,\n",
       " '705': 617,\n",
       " 'ohio': 618,\n",
       " '1300': 619,\n",
       " 'latest': 620,\n",
       " 'with': 621,\n",
       " 'than': 622,\n",
       " 'west': 623,\n",
       " 'december': 624,\n",
       " 'get': 625,\n",
       " 'intercontinental': 626,\n",
       " '720': 627,\n",
       " 'amount': 628,\n",
       " 'run': 629,\n",
       " '1222': 630,\n",
       " 'having': 631,\n",
       " 'dinnertime': 632,\n",
       " 'serves': 633,\n",
       " 'route': 634,\n",
       " '838': 635,\n",
       " 'round': 636,\n",
       " 'everywhere': 637,\n",
       " 'tennessee': 638,\n",
       " 'operation': 639,\n",
       " \"doesn't\": 640,\n",
       " 'milwaukee': 641,\n",
       " 'air': 642,\n",
       " 'ff': 643,\n",
       " 'using': 644,\n",
       " 'carries': 645,\n",
       " 'toronto': 646,\n",
       " 'capacities': 647,\n",
       " '417': 648,\n",
       " 'arrange': 649,\n",
       " 'include': 650,\n",
       " 'tower': 651,\n",
       " 'bring': 652,\n",
       " 'smallest': 653,\n",
       " 'year': 654,\n",
       " 'aircraft': 655,\n",
       " 'salt': 656,\n",
       " 'for': 657,\n",
       " 'ua': 658,\n",
       " 'departure': 659,\n",
       " 'inform': 660,\n",
       " 'too': 661,\n",
       " 'new': 662,\n",
       " '11': 663,\n",
       " 'mornings': 664,\n",
       " 'see': 665,\n",
       " '106': 666,\n",
       " 'connecting': 667,\n",
       " 'besides': 668,\n",
       " '281': 669,\n",
       " 'thursdays': 670,\n",
       " '815': 671,\n",
       " 'canadian': 672,\n",
       " 'march': 673,\n",
       " 'qo': 674,\n",
       " '500': 675,\n",
       " 'go': 676,\n",
       " 'eighteenth': 677,\n",
       " 'qw': 678,\n",
       " 'those': 679,\n",
       " 'bur': 680,\n",
       " 'coach': 681,\n",
       " 'seventeen': 682,\n",
       " 'arrangements': 683,\n",
       " '757': 684,\n",
       " '43': 685,\n",
       " 'would': 686,\n",
       " '3724': 687,\n",
       " 'm': 688,\n",
       " '727': 689,\n",
       " 'both': 690,\n",
       " 'else': 691,\n",
       " 'nineteenth': 692,\n",
       " 'sometime': 693,\n",
       " 'next': 694,\n",
       " 'provides': 695,\n",
       " 'airplane': 696,\n",
       " '932': 697,\n",
       " 'dulles': 698,\n",
       " 'baltimore': 699,\n",
       " 'lunch': 700,\n",
       " 'mealtime': 701,\n",
       " 'equal': 702,\n",
       " '845': 703,\n",
       " 'twenty': 704,\n",
       " 'be': 705,\n",
       " '12': 706,\n",
       " '163': 707,\n",
       " '300': 708,\n",
       " 'only': 709,\n",
       " '201': 710,\n",
       " 'catch': 711,\n",
       " 'must': 712,\n",
       " 'into': 713,\n",
       " 'us': 714,\n",
       " 'diego': 715,\n",
       " 'day': 716,\n",
       " 'nationair': 717,\n",
       " 'locate': 718,\n",
       " 'local': 719,\n",
       " 'from': 720,\n",
       " 'interested': 721,\n",
       " 'after': 722,\n",
       " 'restriction': 723,\n",
       " 'fourth': 724,\n",
       " 'meal': 725,\n",
       " 'return': 726,\n",
       " 'six': 727,\n",
       " \"what's\": 728,\n",
       " '323': 729,\n",
       " 'mean': 730,\n",
       " '7': 731,\n",
       " 'tacoma': 732,\n",
       " 'different': 733,\n",
       " '497766': 734,\n",
       " '9': 735,\n",
       " 'nashville': 736,\n",
       " 'beach': 737,\n",
       " 'prices': 738,\n",
       " 'some': 739,\n",
       " 'international': 740,\n",
       " 'or': 741,\n",
       " 'final': 742,\n",
       " 'they': 743,\n",
       " 'a': 744,\n",
       " 'louis': 745,\n",
       " 'zone': 746,\n",
       " '10': 747,\n",
       " '515': 748,\n",
       " 'seventeenth': 749,\n",
       " '212': 750,\n",
       " 'last': 751,\n",
       " 'choices': 752,\n",
       " 'back': 753,\n",
       " 'reaching': 754,\n",
       " 'sure': 755,\n",
       " 'business': 756,\n",
       " 'june': 757,\n",
       " 'dallas': 758,\n",
       " '57': 759,\n",
       " '229': 760,\n",
       " 'level': 761,\n",
       " 'nighttime': 762,\n",
       " 'bna': 763,\n",
       " 'reservation': 764,\n",
       " 'trying': 765,\n",
       " 'limousines': 766,\n",
       " 'layover': 767,\n",
       " 'actually': 768,\n",
       " 'third': 769,\n",
       " '420': 770,\n",
       " 'dfw': 771,\n",
       " 'today': 772,\n",
       " '1024': 773,\n",
       " 'while': 774,\n",
       " 'july': 775,\n",
       " '311': 776,\n",
       " 'about': 777,\n",
       " 'los': 778,\n",
       " 'f': 779,\n",
       " 'pm': 780,\n",
       " 'originating': 781,\n",
       " 'various': 782,\n",
       " 'like': 783,\n",
       " 'bound': 784,\n",
       " 'gets': 785,\n",
       " 'passengers': 786,\n",
       " 'st.': 787,\n",
       " '2100': 788,\n",
       " 'runs': 789,\n",
       " 'people': 790,\n",
       " 'between': 791,\n",
       " 'in': 792,\n",
       " 'able': 793,\n",
       " 'twa': 794,\n",
       " 'sundays': 795,\n",
       " 'arrive': 796,\n",
       " 'direct': 797,\n",
       " 'originate': 798,\n",
       " 'transcontinental': 799,\n",
       " '530': 800,\n",
       " 'worth': 801,\n",
       " '1': 802,\n",
       " 'pearson': 803,\n",
       " 'hours': 804,\n",
       " '1200': 805,\n",
       " 'red': 806,\n",
       " '1000': 807,\n",
       " 'sixth': 808,\n",
       " '1765': 809,\n",
       " '1700': 810,\n",
       " '257': 811,\n",
       " 'service': 812,\n",
       " 'want': 813,\n",
       " '1850': 814,\n",
       " '217': 815,\n",
       " 'fare': 816,\n",
       " 'starting': 817,\n",
       " 'sort': 818,\n",
       " 'has': 819,\n",
       " 'approximately': 820,\n",
       " 'around': 821,\n",
       " 'but': 822,\n",
       " '1992': 823,\n",
       " 'codes': 824,\n",
       " 'h': 825,\n",
       " '139': 826,\n",
       " \"american's\": 827,\n",
       " 'bwi': 828,\n",
       " 'westchester': 829,\n",
       " 'canada': 830,\n",
       " 'connections': 831,\n",
       " 'provided': 832,\n",
       " 'names': 833,\n",
       " 'saturdays': 834,\n",
       " '416': 835,\n",
       " \"wednesday's\": 836,\n",
       " 'lester': 837,\n",
       " 'going': 838,\n",
       " 'thirty': 839,\n",
       " '1017': 840,\n",
       " 'along': 841,\n",
       " '733': 842,\n",
       " 'more': 843,\n",
       " 'takes': 844,\n",
       " 'fn': 845,\n",
       " 'operating': 846,\n",
       " 'provide': 847,\n",
       " 'georgia': 848,\n",
       " 'tenth': 849,\n",
       " 'grounds': 850,\n",
       " 'montreal': 851,\n",
       " 'days': 852,\n",
       " 'ground': 853,\n",
       " '19': 854,\n",
       " '200': 855,\n",
       " '645': 856,\n",
       " 'cleveland': 857,\n",
       " 'cheapest': 858,\n",
       " \"that's\": 859,\n",
       " 'the': 860,\n",
       " '1940': 861,\n",
       " 'petersburg': 862,\n",
       " 'eleventh': 863,\n",
       " '72s': 864,\n",
       " 'alaska': 865,\n",
       " 'wednesday': 866,\n",
       " 'daily': 867,\n",
       " '5': 868,\n",
       " 'PADDING': 0,\n",
       " 'UNKNOWN': 1}"
      ]
     },
     "execution_count": 12,
     "metadata": {},
     "output_type": "execute_result"
    }
   ],
   "source": [
    "vocabulary_set,maxlen=create_word_set(TRAIN_DATA_FRAME) ## <-- this will be the vocabulary set,  maxlen is longest sentence len \n",
    "### let 0 be padding and 1 be unknown.\n",
    "vocabulary_mapping=dict(zip(vocabulary_set, range(2, len(vocabulary_set)+2)))\n",
    "vocabulary_mapping['PADDING']=0\n",
    "vocabulary_mapping['UNKNOWN']=1\n",
    "vocabulary_mapping\n",
    "### now I can finally create my dataframe with only numbers. ## PRINTING THE VOCABULARY!"
   ]
  },
  {
   "cell_type": "markdown",
   "id": "be04e38c",
   "metadata": {},
   "source": [
    " The following function will take in the main data frames (in caps) and return an all integers numpy array, with correct padding. Notice the \"unknown\" mapping because I assume I can not access the test data to learn the vocabulary words in it.\n",
    " output of this function should be almost ready for input to PyTorch Deep learning model (gotta turn to tensor etc.)"
   ]
  },
  {
   "cell_type": "code",
   "execution_count": 13,
   "id": "9d5c82fe",
   "metadata": {},
   "outputs": [],
   "source": [
    "def turn_to_numbers(df):\n",
    "    list_of_lists=[]\n",
    "    for s in range(len(df['data'])):\n",
    "        current_sentence=df['data'][s]\n",
    "        split_sentence=current_sentence.split(\" \")\n",
    "        for w in range(len(split_sentence)):\n",
    "            if split_sentence[w] in vocabulary_mapping:\n",
    "                split_sentence[w]=vocabulary_mapping[split_sentence[w]]\n",
    "            else:\n",
    "                split_sentence[w]=vocabulary_mapping[\"UNKNOWN\"] ### 1's\n",
    "        ## Padding if needed\n",
    "        if len(split_sentence)<maxlen:\n",
    "            padding=[vocabulary_mapping['PADDING'] for pad in range(maxlen-len(split_sentence))] ### 0's \n",
    "            output=padding+split_sentence\n",
    "        list_of_lists.append(output)\n",
    "    return np.vstack(list_of_lists) ### output is a numpy array where each row is a sentence"
   ]
  },
  {
   "cell_type": "markdown",
   "id": "6f53afad",
   "metadata": {},
   "source": [
    "Making sure everything is correct:"
   ]
  },
  {
   "cell_type": "code",
   "execution_count": 14,
   "id": "c446df00",
   "metadata": {},
   "outputs": [
    {
     "data": {
      "text/plain": [
       "((4478, 46), (893, 46))"
      ]
     },
     "execution_count": 14,
     "metadata": {},
     "output_type": "execute_result"
    }
   ],
   "source": [
    "training_data_ready=turn_to_numbers(TRAIN_DATA_FRAME)\n",
    "testing_data_ready=turn_to_numbers(TEST_DATA_FRAME)\n",
    "## Let's print shape and the data itself\n",
    "training_data_ready.shape, testing_data_ready.shape"
   ]
  },
  {
   "cell_type": "code",
   "execution_count": 15,
   "id": "efe3d6ca",
   "metadata": {},
   "outputs": [
    {
     "data": {
      "text/plain": [
       "array([[  0,   0,   0, ..., 792, 787, 745],\n",
       "       [  0,   0,   0, ...,  26, 731, 487],\n",
       "       [  0,   0,   0, ..., 499, 168, 715],\n",
       "       ...,\n",
       "       [  0,   0,   0, ..., 527, 323, 158],\n",
       "       [  0,   0,   0, ...,  28, 499, 172],\n",
       "       [  0,   0,   0, ..., 136, 499, 732]])"
      ]
     },
     "execution_count": 15,
     "metadata": {},
     "output_type": "execute_result"
    }
   ],
   "source": [
    "testing_data_ready"
   ]
  },
  {
   "cell_type": "code",
   "execution_count": 16,
   "id": "2adcb534",
   "metadata": {},
   "outputs": [
    {
     "data": {
      "text/plain": [
       "array([[  0,   0,   0, ..., 758, 636,  23],\n",
       "       [  0,   0,   0, ..., 622, 807, 559],\n",
       "       [  0,   0,   0, ..., 527, 757,  88],\n",
       "       ...,\n",
       "       [  0,   0,   0, ..., 740, 192,  11],\n",
       "       [  0,   0,   0, ..., 662, 481, 201],\n",
       "       [  0,   0,   0, ..., 499, 168, 173]])"
      ]
     },
     "execution_count": 16,
     "metadata": {},
     "output_type": "execute_result"
    }
   ],
   "source": [
    "training_data_ready"
   ]
  },
  {
   "cell_type": "markdown",
   "id": "bce8de09",
   "metadata": {},
   "source": [
    "###  Creating an Intent Classification model Which does not use a Language Model. \n",
    "#### I shall create an ANN model to achieve this."
   ]
  },
  {
   "cell_type": "markdown",
   "id": "8f7a92b5",
   "metadata": {},
   "source": [
    "The input size of the model is going to be 46"
   ]
  },
  {
   "cell_type": "code",
   "execution_count": 17,
   "id": "0df9f2d2",
   "metadata": {},
   "outputs": [],
   "source": [
    "import torch\n",
    "import torch.nn as nn\n",
    "import matplotlib.pyplot as plt\n",
    "import torch.utils.data as data_utils\n",
    "from sklearn.metrics import confusion_matrix\n",
    "import seaborn as sn"
   ]
  },
  {
   "cell_type": "markdown",
   "id": "ce5d0d1c",
   "metadata": {},
   "source": [
    "Function to create a data loader... using it straight after for both the train and test data..."
   ]
  },
  {
   "cell_type": "code",
   "execution_count": 18,
   "id": "8c7da7a3",
   "metadata": {},
   "outputs": [],
   "source": [
    "def create_data_loader(X,Y):\n",
    "    Y_tensor=torch.tensor(Y['label_mapping'])\n",
    "    X_tensor=(torch.from_numpy(X))\n",
    "    # creating appropriate data for dataloader..\n",
    "    XY_data=data_utils.TensorDataset(X_tensor,Y_tensor)\n",
    "    ## creating dataloader...\n",
    "    data_loader=data_utils.DataLoader(XY_data,batch_size=64,shuffle=True)\n",
    "    return data_loader\n",
    "\n",
    "\n",
    "train_loader=create_data_loader(X=training_data_ready,Y=TRAIN_DATA_FRAME)\n",
    "test_loader=create_data_loader(X=testing_data_ready,Y=TEST_DATA_FRAME)"
   ]
  },
  {
   "cell_type": "markdown",
   "id": "3c2455bb",
   "metadata": {},
   "source": [
    "Creating the naive ANN model..."
   ]
  },
  {
   "cell_type": "code",
   "execution_count": 19,
   "id": "b80377ff",
   "metadata": {},
   "outputs": [],
   "source": [
    "naive_model=nn.Sequential(\n",
    "    nn.Linear(46,128),\n",
    "    nn.ReLU(),\n",
    "    nn.Linear(128,70),\n",
    "    nn.ReLU(),\n",
    "    nn.Linear(70,len(all_labels_mapping))\n",
    ")"
   ]
  },
  {
   "cell_type": "code",
   "execution_count": 20,
   "id": "c36fca75",
   "metadata": {},
   "outputs": [],
   "source": [
    "device=torch.device(\"cuda:0\" if torch.cuda.is_available() else \"cpu\")\n",
    "naive_model.to(device)\n",
    "naive_criterion=nn.CrossEntropyLoss()\n",
    "naive_optimizer=torch.optim.Adam(naive_model.parameters())"
   ]
  },
  {
   "cell_type": "markdown",
   "id": "b173f281",
   "metadata": {},
   "source": [
    " This training function will be used for an lstm model later on, this is why i have lstm_check, since they have different\n",
    " ways to input into the model"
   ]
  },
  {
   "cell_type": "code",
   "execution_count": 21,
   "id": "b5e3313b",
   "metadata": {},
   "outputs": [],
   "source": [
    "def training_function(model,criterion,optimizer,train_load,test_load,epochs,lstm_check=False):\n",
    "    ### lstm_check makes it possible for the trianing loop ( and all other functions) to work with both an ANN and LSTM.\n",
    "    ### i did that so i won't have to re-write the code everytime for every model...\n",
    "    ### basically the main difference between the models is that each model needs a different input.\n",
    "\n",
    "    train_loss_history=np.zeros(epochs) # loss per epoch\n",
    "    test_loss_history=np.zeros(epochs) # loss per epoch\n",
    "    for epoch in range(epochs):\n",
    "        current_train_loss=[] # loss per batch\n",
    "        for x,y in train_load:\n",
    "            x,y=x.to(device),y.to(device)\n",
    "\n",
    "            optimizer.zero_grad()\n",
    "            if lstm_check:\n",
    "                ŷ=model(x)\n",
    "            else:\n",
    "                ŷ=model(x.float())\n",
    "            loss=criterion(ŷ,y) # Notice y hat and y :D\n",
    "            loss.backward()\n",
    "            optimizer.step()\n",
    "            current_train_loss.append(loss.item())\n",
    "\n",
    "        current_train_loss=np.mean(current_train_loss)\n",
    "        train_loss_history[epoch]=current_train_loss\n",
    "\n",
    "\n",
    "        current_test_loss=[]\n",
    "        for x,y in test_load:\n",
    "            x,y=x.to(device),y.to(device)\n",
    "            if lstm_check:\n",
    "                ŷ=model(x)\n",
    "            else:\n",
    "                ŷ=model(x.float())\n",
    "            loss=criterion(ŷ,y)\n",
    "            current_test_loss.append(loss.item())\n",
    "        current_test_loss=np.mean(current_test_loss)\n",
    "\n",
    "        test_loss_history[epoch]=current_test_loss\n",
    "        if (epoch+1)%10==0:\n",
    "            print(f'Epoch:{epoch+1}/{epochs}, TrainLoss:{current_train_loss:.5f}, TestLoss : {current_test_loss:.5f}')\n",
    "    return model,train_loss_history,test_loss_history"
   ]
  },
  {
   "cell_type": "code",
   "execution_count": 22,
   "id": "0c53f385",
   "metadata": {},
   "outputs": [
    {
     "name": "stdout",
     "output_type": "stream",
     "text": [
      "Epoch:10/50, TrainLoss:0.77420, TestLoss : 1.39948\n",
      "Epoch:20/50, TrainLoss:0.55999, TestLoss : 1.55999\n",
      "Epoch:30/50, TrainLoss:0.44817, TestLoss : 1.81607\n",
      "Epoch:40/50, TrainLoss:0.35805, TestLoss : 2.17395\n",
      "Epoch:50/50, TrainLoss:0.31769, TestLoss : 2.55229\n"
     ]
    }
   ],
   "source": [
    "trained_naive_model,naive_train_loss,naive_test_loss=training_function(model=naive_model,\n",
    "                                                                       criterion=naive_criterion\n",
    "                                                                       ,optimizer=naive_optimizer\n",
    "                                                                       ,train_load=train_loader\n",
    "                                                                       ,test_load=test_loader\n",
    "                                                                       ,epochs=50\n",
    "                                                                        )"
   ]
  },
  {
   "cell_type": "code",
   "execution_count": 23,
   "id": "6a28d313",
   "metadata": {},
   "outputs": [],
   "source": [
    "## function to plot losses\n",
    "def plot_losses(train_history,test_history,title=''):\n",
    "    plt.plot(train_history,label='Train Loss', color='green')\n",
    "    plt.plot(test_history,label='Test Loss',color='blue')\n",
    "    plt.title(title)\n",
    "    plt.xlabel(\"Epoch\")\n",
    "    plt.ylabel(\"Loss\")\n",
    "    plt.legend()\n",
    "    plt.show()\n",
    "    return None"
   ]
  },
  {
   "cell_type": "code",
   "execution_count": 24,
   "id": "9e296554",
   "metadata": {
    "scrolled": true
   },
   "outputs": [
    {
     "data": {
      "image/png": "[encoded data removed]",
      "text/plain": [
       "<Figure size 432x288 with 1 Axes>"
      ]
     },
     "metadata": {
      "needs_background": "light"
     },
     "output_type": "display_data"
    }
   ],
   "source": [
    "plot_losses(train_history=naive_train_loss,test_history=naive_test_loss,title='NAIVE ANN MODEL')"
   ]
  },
  {
   "cell_type": "markdown",
   "id": "e16e50ae",
   "metadata": {},
   "source": [
    "Clearly, we are overfitting. Overfitting starts very early epoch-wise."
   ]
  },
  {
   "cell_type": "markdown",
   "id": "22bc16aa",
   "metadata": {},
   "source": [
    "Creating an accuracy function, \n",
    "the function will take in the model as input and then output the accuracy\n",
    "that way I don't have to code the same stuff every time:"
   ]
  },
  {
   "cell_type": "code",
   "execution_count": 25,
   "id": "fa65c6cb",
   "metadata": {},
   "outputs": [
    {
     "name": "stdout",
     "output_type": "stream",
     "text": [
      "Train Accuracy: 0.9048682447521215, Test Accuracy:0.6696528555431132\n"
     ]
    }
   ],
   "source": [
    "def take_model_give_acc(model,lstm_check=False):\n",
    "    model.eval()\n",
    "    rights,total=0,0\n",
    "    for x,y in train_loader:\n",
    "        x,y=x.to(device),y.to(device)\n",
    "        if lstm_check:\n",
    "            ŷ=model(x)\n",
    "        else:\n",
    "            ŷ=model(x.float())\n",
    "        z,preds=torch.max(ŷ,1)\n",
    "        rights+=(preds==y).sum().item()\n",
    "        total+=y.shape[0]\n",
    "    training_accuracy=rights/total\n",
    "    rights,total=0,0\n",
    "    for x,y in test_loader:\n",
    "        x,y,=x.to(device),y.to(device)\n",
    "        if lstm_check:\n",
    "            ŷ=model(x)\n",
    "        else:\n",
    "            ŷ=model(x.float())\n",
    "        z,preds=torch.max(ŷ,1)\n",
    "        rights+=(preds==y).sum().item()\n",
    "        total+=y.shape[0]\n",
    "    testing_accuracy=rights/total\n",
    "    print(f'Train Accuracy: {training_accuracy}, Test Accuracy:{testing_accuracy}')\n",
    "    \n",
    "    \n",
    "## using function\n",
    "take_model_give_acc(trained_naive_model)"
   ]
  },
  {
   "cell_type": "markdown",
   "id": "a7752856",
   "metadata": {},
   "source": [
    "Train accuracy is very high, but on the other hand test accuracy is very low. This suggests that we are over fitting to the \n",
    "Training data's noise. This is bad. We can see that overfitting also starts pretty early epoch-wise."
   ]
  },
  {
   "cell_type": "markdown",
   "id": "3f71d53e",
   "metadata": {},
   "source": [
    "##### High train accuracy and low test accuracy, we are overfitting to the train noise. This is bad."
   ]
  },
  {
   "cell_type": "markdown",
   "id": "72a4e517",
   "metadata": {},
   "source": [
    "making a confusion matrix function to see what's going on\n"
   ]
  },
  {
   "cell_type": "code",
   "execution_count": 26,
   "id": "ea64bc29",
   "metadata": {},
   "outputs": [
    {
     "data": {
      "image/png": "[encoded data removed]",
      "text/plain": [
       "<Figure size 720x504 with 2 Axes>"
      ]
     },
     "metadata": {
      "needs_background": "light"
     },
     "output_type": "display_data"
    }
   ],
   "source": [
    "def take_model_give_matrix(model,lstm_check=False):\n",
    "    X=testing_data_ready\n",
    "    Y=np.array(TEST_DATA_FRAME['label_mapping'])\n",
    "    labels=[x for x in range(18)]\n",
    "    Y_PRED=np.array([])\n",
    "    for x,y in test_loader:\n",
    "        x,y=x.to(device),y.to(device)\n",
    "        if lstm_check:\n",
    "            ŷ=model(x)\n",
    "        else:\n",
    "            ŷ=model(x.float())\n",
    "        Z,preds=torch.max(ŷ,1)\n",
    "        Y_PRED=np.concatenate((Y_PRED,preds.cpu().numpy()))\n",
    "    Y_PRED[:18]=[i for i in range(18)] # Note that this is done in order to create the confusion matrix correctly.\n",
    "    cm=confusion_matrix(Y,Y_PRED)\n",
    "    df_cm=pd.DataFrame(cm,labels,labels)\n",
    "    plt.figure(figsize=(10,7))\n",
    "    sn.color_palette(\"hls\", 10)\n",
    "    sn.set(font_scale=1)\n",
    "    sn.heatmap(df_cm,annot=True,fmt='g',annot_kws={'size':10}, cmap=\"mako\")\n",
    "    plt.xlabel('Y HAT')\n",
    "    plt.ylabel('Y REAL')\n",
    "    plt.show()    \n",
    "    return None\n",
    "\n",
    "## let's get the confusion matrix:\n",
    "take_model_give_matrix(model=trained_naive_model)"
   ]
  },
  {
   "cell_type": "markdown",
   "id": "12420e32",
   "metadata": {},
   "source": [
    "Bad diagonal, strong straight lines for the 'atis flight' label. This is bad, suggests model is gaming the system by mostly predicting atis flight all the time."
   ]
  },
  {
   "cell_type": "code",
   "execution_count": 27,
   "id": "697722fe",
   "metadata": {},
   "outputs": [
    {
     "data": {
      "text/plain": [
       "7"
      ]
     },
     "execution_count": 27,
     "metadata": {},
     "output_type": "execute_result"
    }
   ],
   "source": [
    "all_labels_mapping['atis_flight'] # the model mostly predicts \"atis_flight\" in order to \"game the system.\""
   ]
  },
  {
   "cell_type": "markdown",
   "id": "9153d872",
   "metadata": {},
   "source": [
    "We can see that the model is basically always saying atis_flights. Even though the test accuracy might look pretty high, this might not be the best model... maybe the data is imbalanced?\n",
    "Let's investigate further using a histogram.\n"
   ]
  },
  {
   "cell_type": "code",
   "execution_count": 28,
   "id": "55ae5e5c",
   "metadata": {},
   "outputs": [
    {
     "data": {
      "text/plain": [
       "<AxesSubplot:title={'center':'HISTOGRAM OF LABELS'}>"
      ]
     },
     "execution_count": 28,
     "metadata": {},
     "output_type": "execute_result"
    },
    {
     "data": {
      "image/png": "[encoded data removed]",
      "text/plain": [
       "<Figure size 432x288 with 1 Axes>"
      ]
     },
     "metadata": {},
     "output_type": "display_data"
    }
   ],
   "source": [
    "TEST_DATA_FRAME['label_mapping'].value_counts().plot(kind='bar',title='HISTOGRAM OF LABELS')"
   ]
  },
  {
   "cell_type": "markdown",
   "id": "ca014252",
   "metadata": {},
   "source": [
    "Indeed, The data is imbalanced.\n",
    "we can see that the majority class is atis_flight. In other words, the model is almost always predicting atis_flight to \"game the system\".\n",
    "Our Ideal model would predict the right label, and not always atis_flight.\n"
   ]
  },
  {
   "cell_type": "markdown",
   "id": "c4581813",
   "metadata": {},
   "source": [
    "$\\blacksquare$"
   ]
  },
  {
   "cell_type": "markdown",
   "id": "9fd68920",
   "metadata": {},
   "source": [
    "#### Creating an Intent Classification model that uses a Language Model. \n"
   ]
  },
  {
   "cell_type": "markdown",
   "id": "83836dd6",
   "metadata": {},
   "source": [
    "According to [Yu Wang, Yilin Shen & Hongxia Jin](https://arxiv.org/pdf/1812.10235v1.pdf) a BiDirectional LSTM Model achieved \n",
    "State of the art results on this dataset. I will not use their exact model. I will implement a more simple BiLSTM model to see \n",
    "the improvements."
   ]
  },
  {
   "cell_type": "code",
   "execution_count": 29,
   "id": "e1e30ccb",
   "metadata": {},
   "outputs": [],
   "source": [
    "## creating model:\n",
    "\n",
    "class BLSTM(nn.Module):\n",
    "    def __init__(self,vocabulary_size,embedding_dimension,lstm_hidden,lstm_layers,classes):\n",
    "        super(BLSTM,self).__init__()\n",
    "        self.Voc=vocabulary_size\n",
    "        self.Embed=embedding_dimension\n",
    "        self.HiddenUnits=lstm_hidden\n",
    "        self.K=classes\n",
    "        self.Layers=lstm_layers\n",
    "        # Note the embedding layer, as this is a language model\n",
    "        ## Note how I have to add +2 to self.Voc (because I use 0 for padding and 1 for unkown)\n",
    "        self.embedding=nn.Embedding(self.Voc+2,self.Embed)\n",
    "        self.lstm=nn.LSTM(input_size=self.Embed,hidden_size=self.HiddenUnits,\n",
    "                          num_layers=self.Layers,batch_first=True,\n",
    "                         bidirectional=True)\n",
    "        self.fully_connected=nn.Linear(self.HiddenUnits * 2,self.K)\n",
    "    \n",
    "    def forward(self,x):\n",
    "        h0=torch.zeros(self.Layers*2, x.size(0), self.HiddenUnits,device=device )\n",
    "        c0=torch.zeros(self.Layers*2, x.size(0), self.HiddenUnits,device=device )\n",
    "        \n",
    "        output=self.embedding(x)\n",
    "        \n",
    "        output, _ = self.lstm(output,(h0,c0))\n",
    "        output = self.fully_connected(output[:,-1,:]) ### get last hidden state\n",
    "        return output"
   ]
  },
  {
   "cell_type": "code",
   "execution_count": 30,
   "id": "81457bd1",
   "metadata": {},
   "outputs": [
    {
     "name": "stdout",
     "output_type": "stream",
     "text": [
      "Epoch:10/50, TrainLoss:0.96573, TestLoss : 1.06554\n",
      "Epoch:20/50, TrainLoss:0.61413, TestLoss : 0.81739\n",
      "Epoch:30/50, TrainLoss:0.50451, TestLoss : 0.76783\n",
      "Epoch:40/50, TrainLoss:0.42451, TestLoss : 0.74956\n",
      "Epoch:50/50, TrainLoss:0.37456, TestLoss : 0.76108\n"
     ]
    }
   ],
   "source": [
    "bidirectional_lstm_model=BLSTM(vocabulary_size=len(vocabulary_set),\n",
    "                              embedding_dimension=20,\n",
    "                              lstm_hidden=2,\n",
    "                              lstm_layers=2,\n",
    "                              classes=len(all_labels_mapping)).to(device)\n",
    "\n",
    "\n",
    "criterion_BLSTM=nn.CrossEntropyLoss()\n",
    "optimizer_BLSTM=torch.optim.Adam(bidirectional_lstm_model.parameters(),)\n",
    "trained_lstm,lstm_train_loss,lstm_test_loss=training_function(model=bidirectional_lstm_model,\n",
    "                                                    criterion=criterion_BLSTM,\n",
    "                                                    optimizer=optimizer_BLSTM,\n",
    "                                                    train_load=train_loader,\n",
    "                                                    test_load=test_loader,\n",
    "                                                    epochs=50,\n",
    "                                                    lstm_check=True)"
   ]
  },
  {
   "cell_type": "markdown",
   "id": "c9f72196",
   "metadata": {},
   "source": [
    "##### Confusion Matrix:"
   ]
  },
  {
   "cell_type": "code",
   "execution_count": 31,
   "id": "e20391c6",
   "metadata": {},
   "outputs": [
    {
     "data": {
      "image/png": "[encoded data removed]",
      "text/plain": [
       "<Figure size 720x504 with 2 Axes>"
      ]
     },
     "metadata": {},
     "output_type": "display_data"
    }
   ],
   "source": [
    "take_model_give_matrix(model=trained_lstm,lstm_check=True)"
   ]
  },
  {
   "cell_type": "markdown",
   "id": "faf08736",
   "metadata": {},
   "source": [
    "still bad diagonals, strong straight line predictions for majority label. bad."
   ]
  },
  {
   "cell_type": "markdown",
   "id": "166ab2cd",
   "metadata": {},
   "source": [
    "##### Losses:"
   ]
  },
  {
   "cell_type": "code",
   "execution_count": 32,
   "id": "50f41fc1",
   "metadata": {},
   "outputs": [
    {
     "data": {
      "image/png": "[encoded data removed]",
      "text/plain": [
       "<Figure size 432x288 with 1 Axes>"
      ]
     },
     "metadata": {},
     "output_type": "display_data"
    }
   ],
   "source": [
    "plot_losses(train_history=lstm_train_loss,test_history=lstm_test_loss,title='BiDirectional LSTM MODEL')"
   ]
  },
  {
   "cell_type": "markdown",
   "id": "3ac11e4f",
   "metadata": {},
   "source": [
    "Overfitting seems less of a problem in this model when compared to the ANN model. maybe we could even train for more epochs."
   ]
  },
  {
   "cell_type": "markdown",
   "id": "078dab1b",
   "metadata": {},
   "source": [
    "##### Accuracies:"
   ]
  },
  {
   "cell_type": "code",
   "execution_count": 33,
   "id": "2842d9ff",
   "metadata": {},
   "outputs": [
    {
     "name": "stdout",
     "output_type": "stream",
     "text": [
      "Train Accuracy: 0.9064314426083073, Test Accuracy:0.8118701007838746\n"
     ]
    }
   ],
   "source": [
    "take_model_give_acc(model=trained_lstm,lstm_check=True)"
   ]
  },
  {
   "cell_type": "markdown",
   "id": "f08638df",
   "metadata": {},
   "source": [
    "WOW!"
   ]
  },
  {
   "cell_type": "markdown",
   "id": "a4cce011",
   "metadata": {},
   "source": [
    "With this model i'm getting high train accuracy and test accuracy. Specifically, i'm getting a very high increase in test accuracy using this model. Additionally, when inspecting the losses we can see that even after 50 epochs, there isn't really any significant overfitting."
   ]
  },
  {
   "cell_type": "markdown",
   "id": "49ff058e",
   "metadata": {},
   "source": [
    "We can clearly see the power of the Language model neural network, especially when inspecting the losses and the accuracy.\n",
    "First of all, we can see that the accuracy on the test data increased. Additionally, we can see that there is a lot LESS overfitting to the \n",
    "train data noise, which is very good this means that the model is actually learning."
   ]
  },
  {
   "cell_type": "markdown",
   "id": "138ff206",
   "metadata": {},
   "source": [
    "Still, we must not forget the bad diagonals in the confusion matrix, which suggests that the model predicts mostly the majority labels... in other words, the model found a way to \"win\" the game..."
   ]
  },
  {
   "cell_type": "markdown",
   "id": "24d2c343",
   "metadata": {},
   "source": [
    "##### BERT"
   ]
  },
  {
   "cell_type": "markdown",
   "id": "1eccc098",
   "metadata": {},
   "source": [
    "In this part I will try out the BERT transformer model. I will use the pretrained bert model provided by the transformers library and then\n",
    "freeze the weights, add my own fully connected layers to train. Then I will make predictions etc using my functions. I will also need to do some different preprocessing on the data sets because bert has its own tokenizer which is easy to use.\n",
    "I will use the Hugging face documentation to comeplete this task:\n",
    " [$I$](https://huggingface.co/docs/transformers/model_doc/bert), [$II$](https://huggingface.co/docs/transformers/training) "
   ]
  },
  {
   "cell_type": "code",
   "execution_count": 34,
   "id": "946221be",
   "metadata": {},
   "outputs": [],
   "source": [
    "from transformers import AutoConfig, AutoModel, BertTokenizerFast\n",
    "import torch.nn.functional as F"
   ]
  },
  {
   "cell_type": "code",
   "execution_count": 35,
   "id": "c08f720d",
   "metadata": {
    "scrolled": true
   },
   "outputs": [
    {
     "name": "stderr",
     "output_type": "stream",
     "text": [
      "Some weights of the model checkpoint at bert-base-uncased were not used when initializing BertModel: ['cls.seq_relationship.bias', 'cls.predictions.decoder.weight', 'cls.predictions.transform.LayerNorm.bias', 'cls.predictions.transform.dense.weight', 'cls.predictions.transform.LayerNorm.weight', 'cls.predictions.bias', 'cls.predictions.transform.dense.bias', 'cls.seq_relationship.weight']\n",
      "- This IS expected if you are initializing BertModel from the checkpoint of a model trained on another task or with another architecture (e.g. initializing a BertForSequenceClassification model from a BertForPreTraining model).\n",
      "- This IS NOT expected if you are initializing BertModel from the checkpoint of a model that you expect to be exactly identical (initializing a BertForSequenceClassification model from a BertForSequenceClassification model).\n"
     ]
    }
   ],
   "source": [
    "BERT_MODEL=AutoModel.from_pretrained('bert-base-uncased')\n",
    "BERT_TOKEN=BertTokenizerFast.from_pretrained('bert-base-uncased')"
   ]
  },
  {
   "cell_type": "code",
   "execution_count": 36,
   "id": "5adef43f",
   "metadata": {},
   "outputs": [],
   "source": [
    "# function that takes in a main data frame ( the ones in CAPSLOCK) and returns a dataloader ready to be used \n",
    "# for the bert model:\n",
    "def Create_Bert_Dataloader(df):\n",
    "    bert_data=(df['data']).tolist()\n",
    "    bert_labels=torch.tensor(df['label_mapping'].tolist())\n",
    "    bert_data_tokenized=BERT_TOKEN.batch_encode_plus(bert_data,max_length=maxlen,pad_to_max_length=True)\n",
    "    bert_input_ids=torch.tensor(bert_data_tokenized['input_ids'])\n",
    "    bert_attention_mask=torch.tensor(bert_data_tokenized['attention_mask'])\n",
    "    bert_dataset=data_utils.TensorDataset(bert_input_ids,bert_attention_mask,bert_labels)\n",
    "    bert_dataloader=data_utils.DataLoader(bert_dataset,batch_size=64)\n",
    "    return bert_dataloader"
   ]
  },
  {
   "cell_type": "code",
   "execution_count": 37,
   "id": "f7ddcb51",
   "metadata": {},
   "outputs": [
    {
     "name": "stderr",
     "output_type": "stream",
     "text": [
      "Truncation was not explicitly activated but `max_length` is provided a specific value, please use `truncation=True` to explicitly truncate examples to max length. Defaulting to 'longest_first' truncation strategy. If you encode pairs of sequences (GLUE-style) with the tokenizer you can select this strategy more precisely by providing a specific strategy to `truncation`.\n",
      "C:\\Users\\yoel1\\anaconda3\\lib\\site-packages\\transformers\\tokenization_utils_base.py:2251: FutureWarning: The `pad_to_max_length` argument is deprecated and will be removed in a future version, use `padding=True` or `padding='longest'` to pad to the longest sequence in the batch, or use `padding='max_length'` to pad to a max length. In this case, you can give a specific length with `max_length` (e.g. `max_length=45`) or leave max_length to None to pad to the maximal input size of the model (e.g. 512 for Bert).\n",
      "  warnings.warn(\n"
     ]
    }
   ],
   "source": [
    "## creating the dataloaders for train and test data...\n",
    "BERT_TRAIN_DATALOADER=Create_Bert_Dataloader(TRAIN_DATA_FRAME)\n",
    "BERT_TEST_DATALOADER=Create_Bert_Dataloader(TEST_DATA_FRAME)\n",
    "#### freezing the parameters of the bert model.\n",
    "for param in BERT_MODEL.parameters():\n",
    "    param.requires_grad=False"
   ]
  },
  {
   "cell_type": "code",
   "execution_count": 38,
   "id": "882adf81",
   "metadata": {},
   "outputs": [],
   "source": [
    "# Creating my bert model.\n",
    "class Custom_Bert_Model(nn.Module):\n",
    "    def __init__(self,BERT_Model):\n",
    "        super(Custom_Bert_Model,self).__init__()\n",
    "        self.frozen_bert=BERT_MODEL\n",
    "        self.first_fully_connected=nn.Linear(768,256)\n",
    "        self.second_fully_connected=nn.Linear(256,128)\n",
    "        self.final_fully_connected=nn.Linear(128,len(all_labels_mapping))\n",
    "        \n",
    "    def forward(self,IDS,AM):\n",
    "        ### IDS <----- input ids, AM<---- attention mask\n",
    "        _, bert_out=self.frozen_bert(IDS,attention_mask=AM, return_dict=False)\n",
    "        output=F.relu(self.first_fully_connected(bert_out))\n",
    "        output=F.relu(self.second_fully_connected(output))\n",
    "        output=self.final_fully_connected(output)\n",
    "        return output"
   ]
  },
  {
   "cell_type": "code",
   "execution_count": 39,
   "id": "e985564d",
   "metadata": {},
   "outputs": [
    {
     "data": {
      "text/plain": [
       "Custom_Bert_Model(\n",
       "  (frozen_bert): BertModel(\n",
       "    (embeddings): BertEmbeddings(\n",
       "      (word_embeddings): Embedding(30522, 768, padding_idx=0)\n",
       "      (position_embeddings): Embedding(512, 768)\n",
       "      (token_type_embeddings): Embedding(2, 768)\n",
       "      (LayerNorm): LayerNorm((768,), eps=1e-12, elementwise_affine=True)\n",
       "      (dropout): Dropout(p=0.1, inplace=False)\n",
       "    )\n",
       "    (encoder): BertEncoder(\n",
       "      (layer): ModuleList(\n",
       "        (0): BertLayer(\n",
       "          (attention): BertAttention(\n",
       "            (self): BertSelfAttention(\n",
       "              (query): Linear(in_features=768, out_features=768, bias=True)\n",
       "              (key): Linear(in_features=768, out_features=768, bias=True)\n",
       "              (value): Linear(in_features=768, out_features=768, bias=True)\n",
       "              (dropout): Dropout(p=0.1, inplace=False)\n",
       "            )\n",
       "            (output): BertSelfOutput(\n",
       "              (dense): Linear(in_features=768, out_features=768, bias=True)\n",
       "              (LayerNorm): LayerNorm((768,), eps=1e-12, elementwise_affine=True)\n",
       "              (dropout): Dropout(p=0.1, inplace=False)\n",
       "            )\n",
       "          )\n",
       "          (intermediate): BertIntermediate(\n",
       "            (dense): Linear(in_features=768, out_features=3072, bias=True)\n",
       "          )\n",
       "          (output): BertOutput(\n",
       "            (dense): Linear(in_features=3072, out_features=768, bias=True)\n",
       "            (LayerNorm): LayerNorm((768,), eps=1e-12, elementwise_affine=True)\n",
       "            (dropout): Dropout(p=0.1, inplace=False)\n",
       "          )\n",
       "        )\n",
       "        (1): BertLayer(\n",
       "          (attention): BertAttention(\n",
       "            (self): BertSelfAttention(\n",
       "              (query): Linear(in_features=768, out_features=768, bias=True)\n",
       "              (key): Linear(in_features=768, out_features=768, bias=True)\n",
       "              (value): Linear(in_features=768, out_features=768, bias=True)\n",
       "              (dropout): Dropout(p=0.1, inplace=False)\n",
       "            )\n",
       "            (output): BertSelfOutput(\n",
       "              (dense): Linear(in_features=768, out_features=768, bias=True)\n",
       "              (LayerNorm): LayerNorm((768,), eps=1e-12, elementwise_affine=True)\n",
       "              (dropout): Dropout(p=0.1, inplace=False)\n",
       "            )\n",
       "          )\n",
       "          (intermediate): BertIntermediate(\n",
       "            (dense): Linear(in_features=768, out_features=3072, bias=True)\n",
       "          )\n",
       "          (output): BertOutput(\n",
       "            (dense): Linear(in_features=3072, out_features=768, bias=True)\n",
       "            (LayerNorm): LayerNorm((768,), eps=1e-12, elementwise_affine=True)\n",
       "            (dropout): Dropout(p=0.1, inplace=False)\n",
       "          )\n",
       "        )\n",
       "        (2): BertLayer(\n",
       "          (attention): BertAttention(\n",
       "            (self): BertSelfAttention(\n",
       "              (query): Linear(in_features=768, out_features=768, bias=True)\n",
       "              (key): Linear(in_features=768, out_features=768, bias=True)\n",
       "              (value): Linear(in_features=768, out_features=768, bias=True)\n",
       "              (dropout): Dropout(p=0.1, inplace=False)\n",
       "            )\n",
       "            (output): BertSelfOutput(\n",
       "              (dense): Linear(in_features=768, out_features=768, bias=True)\n",
       "              (LayerNorm): LayerNorm((768,), eps=1e-12, elementwise_affine=True)\n",
       "              (dropout): Dropout(p=0.1, inplace=False)\n",
       "            )\n",
       "          )\n",
       "          (intermediate): BertIntermediate(\n",
       "            (dense): Linear(in_features=768, out_features=3072, bias=True)\n",
       "          )\n",
       "          (output): BertOutput(\n",
       "            (dense): Linear(in_features=3072, out_features=768, bias=True)\n",
       "            (LayerNorm): LayerNorm((768,), eps=1e-12, elementwise_affine=True)\n",
       "            (dropout): Dropout(p=0.1, inplace=False)\n",
       "          )\n",
       "        )\n",
       "        (3): BertLayer(\n",
       "          (attention): BertAttention(\n",
       "            (self): BertSelfAttention(\n",
       "              (query): Linear(in_features=768, out_features=768, bias=True)\n",
       "              (key): Linear(in_features=768, out_features=768, bias=True)\n",
       "              (value): Linear(in_features=768, out_features=768, bias=True)\n",
       "              (dropout): Dropout(p=0.1, inplace=False)\n",
       "            )\n",
       "            (output): BertSelfOutput(\n",
       "              (dense): Linear(in_features=768, out_features=768, bias=True)\n",
       "              (LayerNorm): LayerNorm((768,), eps=1e-12, elementwise_affine=True)\n",
       "              (dropout): Dropout(p=0.1, inplace=False)\n",
       "            )\n",
       "          )\n",
       "          (intermediate): BertIntermediate(\n",
       "            (dense): Linear(in_features=768, out_features=3072, bias=True)\n",
       "          )\n",
       "          (output): BertOutput(\n",
       "            (dense): Linear(in_features=3072, out_features=768, bias=True)\n",
       "            (LayerNorm): LayerNorm((768,), eps=1e-12, elementwise_affine=True)\n",
       "            (dropout): Dropout(p=0.1, inplace=False)\n",
       "          )\n",
       "        )\n",
       "        (4): BertLayer(\n",
       "          (attention): BertAttention(\n",
       "            (self): BertSelfAttention(\n",
       "              (query): Linear(in_features=768, out_features=768, bias=True)\n",
       "              (key): Linear(in_features=768, out_features=768, bias=True)\n",
       "              (value): Linear(in_features=768, out_features=768, bias=True)\n",
       "              (dropout): Dropout(p=0.1, inplace=False)\n",
       "            )\n",
       "            (output): BertSelfOutput(\n",
       "              (dense): Linear(in_features=768, out_features=768, bias=True)\n",
       "              (LayerNorm): LayerNorm((768,), eps=1e-12, elementwise_affine=True)\n",
       "              (dropout): Dropout(p=0.1, inplace=False)\n",
       "            )\n",
       "          )\n",
       "          (intermediate): BertIntermediate(\n",
       "            (dense): Linear(in_features=768, out_features=3072, bias=True)\n",
       "          )\n",
       "          (output): BertOutput(\n",
       "            (dense): Linear(in_features=3072, out_features=768, bias=True)\n",
       "            (LayerNorm): LayerNorm((768,), eps=1e-12, elementwise_affine=True)\n",
       "            (dropout): Dropout(p=0.1, inplace=False)\n",
       "          )\n",
       "        )\n",
       "        (5): BertLayer(\n",
       "          (attention): BertAttention(\n",
       "            (self): BertSelfAttention(\n",
       "              (query): Linear(in_features=768, out_features=768, bias=True)\n",
       "              (key): Linear(in_features=768, out_features=768, bias=True)\n",
       "              (value): Linear(in_features=768, out_features=768, bias=True)\n",
       "              (dropout): Dropout(p=0.1, inplace=False)\n",
       "            )\n",
       "            (output): BertSelfOutput(\n",
       "              (dense): Linear(in_features=768, out_features=768, bias=True)\n",
       "              (LayerNorm): LayerNorm((768,), eps=1e-12, elementwise_affine=True)\n",
       "              (dropout): Dropout(p=0.1, inplace=False)\n",
       "            )\n",
       "          )\n",
       "          (intermediate): BertIntermediate(\n",
       "            (dense): Linear(in_features=768, out_features=3072, bias=True)\n",
       "          )\n",
       "          (output): BertOutput(\n",
       "            (dense): Linear(in_features=3072, out_features=768, bias=True)\n",
       "            (LayerNorm): LayerNorm((768,), eps=1e-12, elementwise_affine=True)\n",
       "            (dropout): Dropout(p=0.1, inplace=False)\n",
       "          )\n",
       "        )\n",
       "        (6): BertLayer(\n",
       "          (attention): BertAttention(\n",
       "            (self): BertSelfAttention(\n",
       "              (query): Linear(in_features=768, out_features=768, bias=True)\n",
       "              (key): Linear(in_features=768, out_features=768, bias=True)\n",
       "              (value): Linear(in_features=768, out_features=768, bias=True)\n",
       "              (dropout): Dropout(p=0.1, inplace=False)\n",
       "            )\n",
       "            (output): BertSelfOutput(\n",
       "              (dense): Linear(in_features=768, out_features=768, bias=True)\n",
       "              (LayerNorm): LayerNorm((768,), eps=1e-12, elementwise_affine=True)\n",
       "              (dropout): Dropout(p=0.1, inplace=False)\n",
       "            )\n",
       "          )\n",
       "          (intermediate): BertIntermediate(\n",
       "            (dense): Linear(in_features=768, out_features=3072, bias=True)\n",
       "          )\n",
       "          (output): BertOutput(\n",
       "            (dense): Linear(in_features=3072, out_features=768, bias=True)\n",
       "            (LayerNorm): LayerNorm((768,), eps=1e-12, elementwise_affine=True)\n",
       "            (dropout): Dropout(p=0.1, inplace=False)\n",
       "          )\n",
       "        )\n",
       "        (7): BertLayer(\n",
       "          (attention): BertAttention(\n",
       "            (self): BertSelfAttention(\n",
       "              (query): Linear(in_features=768, out_features=768, bias=True)\n",
       "              (key): Linear(in_features=768, out_features=768, bias=True)\n",
       "              (value): Linear(in_features=768, out_features=768, bias=True)\n",
       "              (dropout): Dropout(p=0.1, inplace=False)\n",
       "            )\n",
       "            (output): BertSelfOutput(\n",
       "              (dense): Linear(in_features=768, out_features=768, bias=True)\n",
       "              (LayerNorm): LayerNorm((768,), eps=1e-12, elementwise_affine=True)\n",
       "              (dropout): Dropout(p=0.1, inplace=False)\n",
       "            )\n",
       "          )\n",
       "          (intermediate): BertIntermediate(\n",
       "            (dense): Linear(in_features=768, out_features=3072, bias=True)\n",
       "          )\n",
       "          (output): BertOutput(\n",
       "            (dense): Linear(in_features=3072, out_features=768, bias=True)\n",
       "            (LayerNorm): LayerNorm((768,), eps=1e-12, elementwise_affine=True)\n",
       "            (dropout): Dropout(p=0.1, inplace=False)\n",
       "          )\n",
       "        )\n",
       "        (8): BertLayer(\n",
       "          (attention): BertAttention(\n",
       "            (self): BertSelfAttention(\n",
       "              (query): Linear(in_features=768, out_features=768, bias=True)\n",
       "              (key): Linear(in_features=768, out_features=768, bias=True)\n",
       "              (value): Linear(in_features=768, out_features=768, bias=True)\n",
       "              (dropout): Dropout(p=0.1, inplace=False)\n",
       "            )\n",
       "            (output): BertSelfOutput(\n",
       "              (dense): Linear(in_features=768, out_features=768, bias=True)\n",
       "              (LayerNorm): LayerNorm((768,), eps=1e-12, elementwise_affine=True)\n",
       "              (dropout): Dropout(p=0.1, inplace=False)\n",
       "            )\n",
       "          )\n",
       "          (intermediate): BertIntermediate(\n",
       "            (dense): Linear(in_features=768, out_features=3072, bias=True)\n",
       "          )\n",
       "          (output): BertOutput(\n",
       "            (dense): Linear(in_features=3072, out_features=768, bias=True)\n",
       "            (LayerNorm): LayerNorm((768,), eps=1e-12, elementwise_affine=True)\n",
       "            (dropout): Dropout(p=0.1, inplace=False)\n",
       "          )\n",
       "        )\n",
       "        (9): BertLayer(\n",
       "          (attention): BertAttention(\n",
       "            (self): BertSelfAttention(\n",
       "              (query): Linear(in_features=768, out_features=768, bias=True)\n",
       "              (key): Linear(in_features=768, out_features=768, bias=True)\n",
       "              (value): Linear(in_features=768, out_features=768, bias=True)\n",
       "              (dropout): Dropout(p=0.1, inplace=False)\n",
       "            )\n",
       "            (output): BertSelfOutput(\n",
       "              (dense): Linear(in_features=768, out_features=768, bias=True)\n",
       "              (LayerNorm): LayerNorm((768,), eps=1e-12, elementwise_affine=True)\n",
       "              (dropout): Dropout(p=0.1, inplace=False)\n",
       "            )\n",
       "          )\n",
       "          (intermediate): BertIntermediate(\n",
       "            (dense): Linear(in_features=768, out_features=3072, bias=True)\n",
       "          )\n",
       "          (output): BertOutput(\n",
       "            (dense): Linear(in_features=3072, out_features=768, bias=True)\n",
       "            (LayerNorm): LayerNorm((768,), eps=1e-12, elementwise_affine=True)\n",
       "            (dropout): Dropout(p=0.1, inplace=False)\n",
       "          )\n",
       "        )\n",
       "        (10): BertLayer(\n",
       "          (attention): BertAttention(\n",
       "            (self): BertSelfAttention(\n",
       "              (query): Linear(in_features=768, out_features=768, bias=True)\n",
       "              (key): Linear(in_features=768, out_features=768, bias=True)\n",
       "              (value): Linear(in_features=768, out_features=768, bias=True)\n",
       "              (dropout): Dropout(p=0.1, inplace=False)\n",
       "            )\n",
       "            (output): BertSelfOutput(\n",
       "              (dense): Linear(in_features=768, out_features=768, bias=True)\n",
       "              (LayerNorm): LayerNorm((768,), eps=1e-12, elementwise_affine=True)\n",
       "              (dropout): Dropout(p=0.1, inplace=False)\n",
       "            )\n",
       "          )\n",
       "          (intermediate): BertIntermediate(\n",
       "            (dense): Linear(in_features=768, out_features=3072, bias=True)\n",
       "          )\n",
       "          (output): BertOutput(\n",
       "            (dense): Linear(in_features=3072, out_features=768, bias=True)\n",
       "            (LayerNorm): LayerNorm((768,), eps=1e-12, elementwise_affine=True)\n",
       "            (dropout): Dropout(p=0.1, inplace=False)\n",
       "          )\n",
       "        )\n",
       "        (11): BertLayer(\n",
       "          (attention): BertAttention(\n",
       "            (self): BertSelfAttention(\n",
       "              (query): Linear(in_features=768, out_features=768, bias=True)\n",
       "              (key): Linear(in_features=768, out_features=768, bias=True)\n",
       "              (value): Linear(in_features=768, out_features=768, bias=True)\n",
       "              (dropout): Dropout(p=0.1, inplace=False)\n",
       "            )\n",
       "            (output): BertSelfOutput(\n",
       "              (dense): Linear(in_features=768, out_features=768, bias=True)\n",
       "              (LayerNorm): LayerNorm((768,), eps=1e-12, elementwise_affine=True)\n",
       "              (dropout): Dropout(p=0.1, inplace=False)\n",
       "            )\n",
       "          )\n",
       "          (intermediate): BertIntermediate(\n",
       "            (dense): Linear(in_features=768, out_features=3072, bias=True)\n",
       "          )\n",
       "          (output): BertOutput(\n",
       "            (dense): Linear(in_features=3072, out_features=768, bias=True)\n",
       "            (LayerNorm): LayerNorm((768,), eps=1e-12, elementwise_affine=True)\n",
       "            (dropout): Dropout(p=0.1, inplace=False)\n",
       "          )\n",
       "        )\n",
       "      )\n",
       "    )\n",
       "    (pooler): BertPooler(\n",
       "      (dense): Linear(in_features=768, out_features=768, bias=True)\n",
       "      (activation): Tanh()\n",
       "    )\n",
       "  )\n",
       "  (first_fully_connected): Linear(in_features=768, out_features=256, bias=True)\n",
       "  (second_fully_connected): Linear(in_features=256, out_features=128, bias=True)\n",
       "  (final_fully_connected): Linear(in_features=128, out_features=18, bias=True)\n",
       ")"
      ]
     },
     "execution_count": 39,
     "metadata": {},
     "output_type": "execute_result"
    }
   ],
   "source": [
    "bert_model=Custom_Bert_Model(BERT_MODEL)\n",
    "bert_model.to(device)"
   ]
  },
  {
   "cell_type": "markdown",
   "id": "c51eeb7f",
   "metadata": {},
   "source": [
    "Now that the model is ready, I basically have to rewrite the training function for the bert model.\n"
   ]
  },
  {
   "cell_type": "markdown",
   "id": "fd33df31",
   "metadata": {},
   "source": [
    "##### Training Bert Model:"
   ]
  },
  {
   "cell_type": "code",
   "execution_count": 40,
   "id": "f741ec5a",
   "metadata": {},
   "outputs": [],
   "source": [
    "def bert_training_function(model,criterion,optimizer,train_load,test_load,epochs):\n",
    "    train_loss_history=np.zeros(epochs) # loss per epoch\n",
    "    test_loss_history=np.zeros(epochs) # loss per epoch\n",
    "    for epoch in range(epochs):\n",
    "        current_train_loss=[] # loss per batch\n",
    "        for z,datum in enumerate(train_load):\n",
    "            datum=[x.to(device) for x in datum]\n",
    "            IDS,AM,y=datum\n",
    "            optimizer.zero_grad()\n",
    "            ŷ=model(IDS,AM)\n",
    "            loss=criterion(ŷ,y) # Notice y hat and y :D\n",
    "            loss.backward()\n",
    "            optimizer.step()\n",
    "            current_train_loss.append(loss.item())\n",
    "\n",
    "        current_train_loss=np.mean(current_train_loss)\n",
    "        train_loss_history[epoch]=current_train_loss\n",
    "\n",
    "\n",
    "        current_test_loss=[]\n",
    "        for z,datum in enumerate(test_load):\n",
    "            datum=[x.to(device) for x in datum]\n",
    "            IDS,AM,y=datum\n",
    "            ŷ=model(IDS,AM)\n",
    "            loss=criterion(ŷ,y)\n",
    "            current_test_loss.append(loss.item())\n",
    "        current_test_loss=np.mean(current_test_loss)\n",
    "\n",
    "        test_loss_history[epoch]=current_test_loss\n",
    "        if (epoch+1)%10==0:\n",
    "            print(f'Epoch:{epoch+1}/{epochs}, TrainLoss:{current_train_loss:.5f}, TestLoss : {current_test_loss:.5f}')\n",
    "    return model,train_loss_history,test_loss_history"
   ]
  },
  {
   "cell_type": "code",
   "execution_count": 41,
   "id": "16df528d",
   "metadata": {},
   "outputs": [],
   "source": [
    "criterion_BERT=nn.CrossEntropyLoss()\n",
    "optimizer_BERT=torch.optim.Adam(bert_model.parameters(),)"
   ]
  },
  {
   "cell_type": "code",
   "execution_count": 42,
   "id": "00d7392f",
   "metadata": {},
   "outputs": [
    {
     "name": "stdout",
     "output_type": "stream",
     "text": [
      "Epoch:10/50, TrainLoss:0.50601, TestLoss : 0.67467\n",
      "Epoch:20/50, TrainLoss:0.36864, TestLoss : 0.54065\n",
      "Epoch:30/50, TrainLoss:0.30129, TestLoss : 0.50698\n",
      "Epoch:40/50, TrainLoss:0.23727, TestLoss : 0.64248\n",
      "Epoch:50/50, TrainLoss:0.19906, TestLoss : 0.48584\n"
     ]
    }
   ],
   "source": [
    "trained_bert,bert_train_loss,bert_test_loss=bert_training_function(model=bert_model\n",
    "                                                                   ,criterion=criterion_BERT\n",
    "                                                                   ,optimizer=optimizer_BERT\n",
    "                                                                   ,train_load=BERT_TRAIN_DATALOADER\n",
    "                                                                   ,test_load=BERT_TEST_DATALOADER\n",
    "                                                                   ,epochs=50)"
   ]
  },
  {
   "cell_type": "markdown",
   "id": "4f2e24f5",
   "metadata": {},
   "source": [
    "##### Bert Confusion Matrix"
   ]
  },
  {
   "cell_type": "code",
   "execution_count": 43,
   "id": "0598839b",
   "metadata": {},
   "outputs": [
    {
     "data": {
      "image/png": "[encoded data removed]",
      "text/plain": [
       "<Figure size 720x504 with 2 Axes>"
      ]
     },
     "metadata": {},
     "output_type": "display_data"
    }
   ],
   "source": [
    "def bert_confusion_matrix(model):\n",
    "    X=testing_data_ready\n",
    "    Y=np.array(TEST_DATA_FRAME['label_mapping'])\n",
    "    labels=[x for x in range(18)]\n",
    "    Y_PRED=np.array([])\n",
    "    for z,datum in enumerate(BERT_TEST_DATALOADER):\n",
    "        datum=[x.to(device) for x in datum]\n",
    "        IDS,AM,y=datum\n",
    "        ŷ=model(IDS,AM)\n",
    "        Z,preds=torch.max(ŷ,1)\n",
    "        Y_PRED=np.concatenate((Y_PRED,preds.cpu().numpy()))\n",
    "    Y_PRED[:18]=[i for i in range(18)] # Note that this is done in order to create the confusion matrix correctly.\n",
    "    cm=confusion_matrix(Y,Y_PRED)\n",
    "    df_cm=pd.DataFrame(cm,labels,labels)\n",
    "    plt.figure(figsize=(10,7))\n",
    "    sn.color_palette(\"hls\", 10)\n",
    "    sn.set(font_scale=1)\n",
    "    sn.heatmap(df_cm,annot=True,fmt='g',annot_kws={'size':10}, cmap=\"mako\")\n",
    "    plt.xlabel('Y HAT')\n",
    "    plt.ylabel('Y REAL')\n",
    "    plt.show()    \n",
    "    return None\n",
    "bert_confusion_matrix(model=trained_bert)"
   ]
  },
  {
   "cell_type": "markdown",
   "id": "98663256",
   "metadata": {},
   "source": [
    "This model has the Best diagonal, notice the difference between BERT's confusion matrix and the two prior models above,\n",
    "it seems like this model ACTUALLY learned to predict correctly."
   ]
  },
  {
   "cell_type": "markdown",
   "id": "01c10b1e",
   "metadata": {},
   "source": [
    "##### Losses"
   ]
  },
  {
   "cell_type": "code",
   "execution_count": 44,
   "id": "8eaf384a",
   "metadata": {},
   "outputs": [
    {
     "data": {
      "image/png": "[encoded data removed]",
      "text/plain": [
       "<Figure size 432x288 with 1 Axes>"
      ]
     },
     "metadata": {},
     "output_type": "display_data"
    }
   ],
   "source": [
    "plot_losses(bert_train_loss,bert_test_loss,title='BERT MODEL')"
   ]
  },
  {
   "cell_type": "markdown",
   "id": "edeb7ff6",
   "metadata": {},
   "source": [
    "Looks good, seems like we could even train for more epochs. (maybe the model escaped a local minimum after around epoch 40)"
   ]
  },
  {
   "cell_type": "markdown",
   "id": "38d3b628",
   "metadata": {},
   "source": [
    "##### Accuracies"
   ]
  },
  {
   "cell_type": "code",
   "execution_count": 45,
   "id": "9ee94379",
   "metadata": {},
   "outputs": [],
   "source": [
    "def bert_accuracy(model):\n",
    "    model.eval()\n",
    "    rights,total=0,0\n",
    "    for z,datum in enumerate(BERT_TRAIN_DATALOADER):\n",
    "        datum=[x.to(device) for x in datum]\n",
    "        IDS,AM,y=datum\n",
    "        ŷ=model(IDS,AM)\n",
    "        z,preds=torch.max(ŷ,1)\n",
    "        rights+=(preds==y).sum().item()\n",
    "        total+=y.shape[0]\n",
    "    training_accuracy=rights/total\n",
    "    rights,total=0,0\n",
    "    for z,datum in enumerate(BERT_TEST_DATALOADER):\n",
    "        datum=[x.to(device) for x in datum]\n",
    "        IDS,AM,y=datum\n",
    "        ŷ=model(IDS,AM)\n",
    "        z,preds=torch.max(ŷ,1)\n",
    "        rights+=(preds==y).sum().item()\n",
    "        total+=y.shape[0]\n",
    "    testing_accuracy=rights/total\n",
    "    print(f'Train Accuracy: {training_accuracy}, Test Accuracy:{testing_accuracy}')"
   ]
  },
  {
   "cell_type": "code",
   "execution_count": 46,
   "id": "cacc907f",
   "metadata": {},
   "outputs": [
    {
     "name": "stdout",
     "output_type": "stream",
     "text": [
      "Train Accuracy: 0.9399285395265744, Test Accuracy:0.8902575587905935\n"
     ]
    }
   ],
   "source": [
    "bert_accuracy(trained_bert)"
   ]
  },
  {
   "cell_type": "markdown",
   "id": "c1a1e8c9",
   "metadata": {},
   "source": [
    "BERT gives the best training accuracy and testing accuracy, which is very good. This model actually got a lot better."
   ]
  },
  {
   "cell_type": "markdown",
   "id": "be2da99d",
   "metadata": {},
   "source": [
    "### WOW"
   ]
  },
  {
   "cell_type": "markdown",
   "id": "0280cb95",
   "metadata": {},
   "source": [
    "All in all, the BERT model did better than the Artificial neural network and the bidirectional lstm models.\n",
    "Both in terms of losses and accuracies. For the same number of epochs I got the best metrics from the BERT Model. \n",
    "Bert got highest the best accuracies, and did not seem to overfit(like the ANN). \n",
    "It is also important to notice that the diagonal of BERT's confusion matrix is the best on out of three models. Bert's confusion matrix suggests that the model actually learned to predict correctly, and not only to predict the majority class.\n",
    "All in all I declare BERT to be the best model!"
   ]
  },
  {
   "cell_type": "markdown",
   "id": "d994eb8f",
   "metadata": {},
   "source": [
    "$\\blacksquare$"
   ]
  }
 ],
 "metadata": {
  "kernelspec": {
   "display_name": "Python 3 (ipykernel)",
   "language": "python",
   "name": "python3"
  },
  "language_info": {
   "codemirror_mode": {
    "name": "ipython",
    "version": 3
   },
   "file_extension": ".py",
   "mimetype": "text/x-python",
   "name": "python",
   "nbconvert_exporter": "python",
   "pygments_lexer": "ipython3",
   "version": "3.9.7"
  }
 },
 "nbformat": 4,
 "nbformat_minor": 5
}
